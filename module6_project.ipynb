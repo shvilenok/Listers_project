{
 "cells": [
  {
   "cell_type": "markdown",
   "id": "1cc97584-73cf-4db5-9f81-2eab7c2c50a4",
   "metadata": {
    "tags": []
   },
   "source": [
    "# Оглавление\n",
    "\n",
    "**Подготовка данных для загрузки в систему**\n",
    "1. [Подключения к инструментам](#connections)\n",
    "2. [Предподготовка данных для S3](#preparation_s3)\n",
    "3. [Переносим данные в clickhouse](#preparation_clickhouse)\n",
    "\n",
    "\n",
    "**Исследование данных по вопросам менеджеров**\n",
    "1. [Задача 1](#task1): Одна из стратегических задач классифайда — привлекать продавцов с более низкими ценами. \n",
    "Гипотеза команды привлечения заключается в том, что такие пользователи более положительно влияют на количество контактов между продавцами и покупателями.\n",
    "    - [Загрузка и чистка данных](#task1_data_prep) Этап подготовки данных, поиска аномальных значений\n",
    "    - [Правда ли, что цены профессионалов больше, чем цены простых пользователей?](#task1_answer)\n",
    "\n",
    "\n",
    "2. [Задача 2](#task2): Менеджеры хотят понять, насколько быстро продаются в среднем наши объявления. Найдите средний срок продажи (время ухода в архив для объявления). Для этого нужно найти разницу между первым днем появления в live и последним днем (по полю execution_date).\n",
    "\n",
    "    Также менеджеры хотят найти самые быстро продаваемые и самые медленно продаваемые автомобили, чтобы попробовать рассылать два разных типа пушей первым и вторым. Но им необходимо понимать, много ли объявлений и пользователей можно охватить такой рассылкой. Для менеджеров, если потенциальные рассылки захватывают больше 5% базы и количества листеров, “игра стоит свеч” — значит, мы будем делать рассылки.\n",
    "\n",
    "    - [Определить топ-5 марок, продающихся быстрее всего, и топ-5 марок, продающихся медленнее всего.](#task2_top5) \n",
    "    - [Какую долю объявлений от общей базы составляют эти группы (суммарно ТОП-5 марок, продающихся быстрее всего и ТОП-5 марок, продающихся медленнее всего).](#task2_top5_p1)  \n",
    "    - [Какую долю пользователей от общего количества листеров составляют эти группы (суммарно ТОП-5 марок, продающихся быстрее всего и ТОП-5 марок, продающихся медленнее всего).](#task2_top5_p2)  \n",
    "\n",
    "\n",
    "3. [Задача 3](#task3): Менеджеров интересует, увеличилось ли время продажи объявлений в нашем продукте за полгода. Если время продажи растет — это плохо для команды листеров.\n",
    "\n",
    "    - [Как изменилось время ухода объявлений в архив за полгода (= средний срок продажи )?](#task3_1)\n",
    "    - [На сколько дней изменилось среднее время ухода в архив в июньской когорте относительно декабрьской когорты?](#task3_2)\n",
    "    - [По каким маркам время ухода в архив выросло больше всего между когортами?](#task3_3)\n",
    "    - [У каких пользователей изменение времени продажи выше?](#task3_4)"
   ]
  },
  {
   "cell_type": "markdown",
   "id": "dc2a4c42-a4b2-481d-a6df-a7b7c36a9c7b",
   "metadata": {
    "tags": []
   },
   "source": [
    "## Подключения к инструментам <a class=\"anchor\" id=\"connections\"></a>"
   ]
  },
  {
   "cell_type": "code",
   "execution_count": 1,
   "id": "5c45448b-0b2f-40f8-bad0-c723fb8e7617",
   "metadata": {},
   "outputs": [],
   "source": [
    "from pyspark.sql import SparkSession\n",
    "from pyspark.sql.functions import *\n",
    "from pyspark.sql.functions import date_format\n",
    "\n",
    "import os\n",
    "import socket\n",
    "import pandas as pd\n",
    "from pyspark.sql import SparkSession\n",
    "\n",
    "import seaborn as sns\n",
    "import matplotlib.pyplot as plt\n",
    "\n",
    "import numpy as np\n",
    "from scipy import stats\n",
    "\n",
    "import boto3\n",
    "from botocore.exceptions import NoCredentialsError"
   ]
  },
  {
   "cell_type": "code",
   "execution_count": 10,
   "id": "675fe1bd-6f7c-48c5-aca2-e1d10319be7e",
   "metadata": {},
   "outputs": [],
   "source": [
    "## Загружаем данные для последующих подключений\n",
    "from decouple import Config, RepositoryEnv\n",
    "import os\n",
    "\n",
    "\n",
    "DOTENV_FILE = f'{os.getcwd()}/t.env'\n",
    "env_config = Config(RepositoryEnv(DOTENV_FILE))\n",
    "\n",
    "click_host = env_config.get('click_host')\n",
    "click_login = env_config.get('click_login')\n",
    "click_password = env_config.get('click_password') \n",
    "\n",
    "\n",
    "# Указываем credentials и параметры для работы с S3\n",
    "aws_access_key = env_config.get('aws_access_key')\n",
    "aws_secret_key = env_config.get('aws_secret_key')\n",
    "s3_bucket = env_config.get('s3_bucket')\n",
    "s3_endpoint_url = env_config.get('s3_endpoint_url')\n",
    "\n",
    "student_directory = 'a-papishvili'\n",
    "#print(click_host,click_login, click_password )\n",
    "#print(aws_access_key,aws_secret_key, s3_bucket, s3_endpoint_url )\n"
   ]
  },
  {
   "cell_type": "code",
   "execution_count": 3,
   "id": "27076715-23a5-4783-a939-39cf65183770",
   "metadata": {},
   "outputs": [],
   "source": [
    "from clickhouse_driver import Client\n",
    "import pandas as pd\n",
    "# Создаем соединение с ClickHouse\n",
    "client = Client(host=click_host,\n",
    "                port=9000, \n",
    "                user= click_login, \n",
    "                password=click_password, \n",
    "                database='hardda')"
   ]
  },
  {
   "cell_type": "code",
   "execution_count": 4,
   "id": "4252accf-bf1a-4432-aca4-194d06267f4d",
   "metadata": {},
   "outputs": [
    {
     "name": "stderr",
     "output_type": "stream",
     "text": [
      "Warning: Ignoring non-Spark config property: fs.s3a.endpoint\n"
     ]
    },
    {
     "name": "stdout",
     "output_type": "stream",
     "text": [
      "24/02/08 19:42:49 WARN NativeCodeLoader: Unable to load native-hadoop library for your platform... using builtin-java classes where applicable\n"
     ]
    },
    {
     "name": "stderr",
     "output_type": "stream",
     "text": [
      "Setting default log level to \"WARN\".\n",
      "To adjust logging level use sc.setLogLevel(newLevel). For SparkR, use setLogLevel(newLevel).\n"
     ]
    }
   ],
   "source": [
    "#Spark connection with S3 options\n",
    "\n",
    "APACHE_MASTER_IP = socket.gethostbyname(\"apache-spark-master-0.apache-spark-headless.apache-spark.svc.cluster.local\")\n",
    "APACHE_MASTER_URL = f\"spark://{APACHE_MASTER_IP}:7077\"\n",
    "POD_IP = os.environ[\"MY_POD_IP\"]\n",
    "SPARK_APP_NAME = f\"spark-{os.environ['HOSTNAME']}\"\n",
    "JARS = \"\"\"/nfs/env/lib/python3.8/site-packages/pyspark/jars/clickhouse-native-jdbc-shaded-2.6.5.jar, \n",
    "/nfs/env/lib/python3.8/site-packages/pyspark/jars/hadoop-aws-3.3.4.jar,\n",
    "/nfs/env/lib/python3.8/site-packages/pyspark/jars/aws-java-sdk-bundle-1.12.433.jar\n",
    "\"\"\"\n",
    "\n",
    "MEM = \"2048m\"\n",
    "CORES = 1\n",
    " \n",
    "spark = SparkSession.\\\n",
    "        builder.\\\n",
    "        appName(SPARK_APP_NAME).\\\n",
    "        master(APACHE_MASTER_URL).\\\n",
    "        config(\"spark.executor.memory\", MEM).\\\n",
    "        config(\"spark.jars\", JARS).\\\n",
    "        config(\"spark.executor.cores\", CORES).\\\n",
    "        config(\"spark.driver.host\", POD_IP).\\\n",
    "        config(\"spark.hadoop.fs.s3a.access.key\", aws_access_key). \\\n",
    "        config(\"spark.hadoop.fs.s3a.secret.key\", aws_secret_key). \\\n",
    "        config(\"fs.s3a.endpoint\", \"https://storage.yandexcloud.net\").  \\\n",
    "        config(\"spark.hadoop.fs.s3a.impl\", \"org.apache.hadoop.fs.s3a.S3AFileSystem\"). \\\n",
    "        config(\"spark.hadoop.fs.s3a.path.style.access\", True). \\\n",
    "        config(\"spark.hadoop.fs.s3a.committer.name\", \"directory\"). \\\n",
    "        config(\"spark.hadoop.fs.s3a.aws.credentials.provider\", \"org.apache.hadoop.fs.s3a.SimpleAWSCredentialsProvider\"). \\\n",
    "        getOrCreate()"
   ]
  },
  {
   "cell_type": "code",
   "execution_count": 5,
   "id": "eaca9382-bd66-439b-9c36-a29f2da7be48",
   "metadata": {},
   "outputs": [],
   "source": [
    "#S3 connection\n",
    "\n",
    "# Инициализация клиента S3 с указанием конечной точки\n",
    "s3 = boto3.client('s3',\n",
    "                  aws_access_key_id=aws_access_key,\n",
    "                  aws_secret_access_key=aws_secret_key,\n",
    "                  endpoint_url=s3_endpoint_url)"
   ]
  },
  {
   "attachments": {
    "ffcf6141-5c5f-44b0-9e27-acd40fe1b7dd.png": {
     "image/png": "[encoded data removed]"
    }
   },
   "cell_type": "markdown",
   "id": "d1d05353-c2ec-4864-9f54-37221e45de62",
   "metadata": {},
   "source": [
    "Теперь наша задача заключается в том, чтобы реализовать следующую архитектуру:\n",
    "\n",
    "![image.png](attachment:ffcf6141-5c5f-44b0-9e27-acd40fe1b7dd.png)"
   ]
  },
  {
   "cell_type": "markdown",
   "id": "c0cb0aeb-5cf0-46a6-8fcc-f4c01bdd5f3a",
   "metadata": {
    "tags": []
   },
   "source": [
    "## Предподготовка данных для S3  <a class=\"anchor\" id=\"preparation_s3\"></a>"
   ]
  },
  {
   "cell_type": "code",
   "execution_count": 6,
   "id": "407c3773-670f-4088-8171-bd40ed0f8a43",
   "metadata": {},
   "outputs": [
    {
     "name": "stdout",
     "output_type": "stream",
     "text": [
      "24/02/08 19:43:17 WARN MetricsConfig: Cannot locate configuration: tried hadoop-metrics2-s3a-file-system.properties,hadoop-metrics2.properties\n"
     ]
    },
    {
     "name": "stderr",
     "output_type": "stream",
     "text": [
      "                                                                                \r"
     ]
    },
    {
     "name": "stdout",
     "output_type": "stream",
     "text": [
      "root\n",
      " |-- execution_date: timestamp (nullable = true)\n",
      " |-- advert_id: long (nullable = true)\n",
      " |-- region: string (nullable = true)\n",
      " |-- user_id: long (nullable = true)\n",
      " |-- platform: string (nullable = true)\n",
      " |-- mark: string (nullable = true)\n",
      " |-- model: string (nullable = true)\n",
      " |-- price: double (nullable = true)\n",
      " |-- year: double (nullable = true)\n",
      " |-- fuel: string (nullable = true)\n",
      " |-- color: string (nullable = true)\n",
      " |-- transmission: string (nullable = true)\n",
      " |-- body: string (nullable = true)\n",
      " |-- country: string (nullable = true)\n",
      " |-- global_id: long (nullable = true)\n",
      " |-- user_type_name: string (nullable = true)\n",
      "\n"
     ]
    },
    {
     "name": "stderr",
     "output_type": "stream",
     "text": [
      "                                                                                \r"
     ]
    },
    {
     "name": "stdout",
     "output_type": "stream",
     "text": [
      "24/02/08 19:43:37 WARN MemoryStore: Not enough space to cache broadcast_8 in memory! (computed 304.0 MiB so far)\n",
      "24/02/08 19:43:37 WARN BlockManager: Persisting block broadcast_8 to disk instead.\n",
      "24/02/08 19:43:39 WARN MemoryStore: Not enough space to cache broadcast_8 in memory! (computed 304.0 MiB so far)\n"
     ]
    },
    {
     "name": "stderr",
     "output_type": "stream",
     "text": [
      "                                                                                \r"
     ]
    },
    {
     "name": "stdout",
     "output_type": "stream",
     "text": [
      "+---------------------+\n",
      "|count(execution_date)|\n",
      "+---------------------+\n",
      "|              2771661|\n",
      "+---------------------+\n",
      "\n"
     ]
    },
    {
     "name": "stderr",
     "output_type": "stream",
     "text": [
      "                                                                                \r"
     ]
    },
    {
     "name": "stdout",
     "output_type": "stream",
     "text": [
      "+-------------------+---------+------+---------+--------+------+------+---------+------+------+------+------------+-----+-------+---------+--------------+\n",
      "|     execution_date|advert_id|region|  user_id|platform|  mark| model|    price|  year|  fuel| color|transmission| body|country|global_id|user_type_name|\n",
      "+-------------------+---------+------+---------+--------+------+------+---------+------+------+------+------------+-----+-------+---------+--------------+\n",
      "|2021-06-26 00:00:00|137514150|  Омск|124207514| unknown|  null|  null| 114000.0|2014.0|  null|  null|        null| null|   null|124207514|         profi|\n",
      "|2021-09-20 00:00:00|137514150|  Омск|124207514| unknown|  null|  null| 114000.0|2014.0|  null|  null|        null| null|   null|124207514|         profi|\n",
      "|2020-12-05 00:00:00|137514150|  Омск|124207514| unknown|  null|  null| 114000.0|2014.0|  null|  null|        null| null|   null|124207514|         profi|\n",
      "|2021-08-23 00:00:00|137514150|  Омск|124207514| unknown|  null|  null| 114000.0|2014.0|  null|  null|        null| null|   null|124207514|         profi|\n",
      "|2021-04-03 00:00:00|145314141|   Уфа|124243239| unknown|  null|  null|     null|  null|  null|  null|        null| null|   null|124243239|   simple_user|\n",
      "|2021-06-26 00:00:00|145314141|   Уфа|124243239| unknown|  null|  null|     null|  null|  null|  null|        null| null|   null|124243239|   simple_user|\n",
      "|2021-03-30 00:00:00|150120290| Пермь|124510081| unknown|Toyota|Tundra|2800000.0|2010.0|бензин|черный|     автомат|пикап| Япония|124510081|   simple_user|\n",
      "|2021-04-06 00:00:00|130582517|  Сочи|123464584| unknown|  null|  null|     null|  null|  null|  null|        null| null|   null|123464584|   simple_user|\n",
      "|2020-12-05 00:00:00|130582517|  Сочи|123464584| unknown|  null|  null|     null|  null|  null|  null|        null| null|   null|123464584|   simple_user|\n",
      "|2021-02-17 00:00:00|129804737|  Омск|123559152| unknown|  null|  null|     null|  null|  null|  null|        null| null|   null|123559152|   simple_user|\n",
      "|2021-05-16 00:00:00|127593536|  Омск|123628037| unknown|  null|  null|     null|  null|  null|  null|        null| null|   null|123628037|         profi|\n",
      "|2021-05-18 00:00:00|126746009|  Омск|123628037| unknown|  null|  null|     null|  null|  null|  null|        null| null|   null|123628037|         profi|\n",
      "|2021-01-22 00:00:00|131000137|  Омск|123628037| unknown|  null|  null|     null|  null|  null|  null|        null| null|   null|123628037|         profi|\n",
      "|2021-04-30 00:00:00|131000137|  Омск|123628037| unknown|  null|  null|     null|  null|  null|  null|        null| null|   null|123628037|         profi|\n",
      "|2021-09-07 00:00:00|126746009|  Омск|123628037| unknown|  null|  null|     null|  null|  null|  null|        null| null|   null|123628037|         profi|\n",
      "+-------------------+---------+------+---------+--------+------+------+---------+------+------+------+------------+-----+-------+---------+--------------+\n",
      "only showing top 15 rows\n",
      "\n"
     ]
    }
   ],
   "source": [
    "# Читаем файлы с исходными данными\n",
    "df_adverts_all = spark.read.parquet(f's3a://{s3_bucket}/shared/adverts_data.parquet')\n",
    "df_live_adverts = spark.read.parquet(f's3a://{s3_bucket}/shared/live_adverts.parquet')\n",
    "df_user_passports = spark.read.parquet(f's3a://{s3_bucket}/shared/user_passports.parquet')\n",
    "\n",
    "\n",
    "# Джойним DF, чтобы сделать широкую витрину для ClickHouse\n",
    "df_flat = df_live_adverts\\\n",
    "                    .join(df_adverts_all, on=['execution_date', 'advert_id'], how='left') \\\n",
    "                    .join(df_user_passports, df_live_adverts['user_id'] == df_user_passports['global_id'], how='left')\n",
    "\n",
    "df_flat.printSchema()\n",
    "df_flat.select(count(\"execution_date\")).show()\n",
    "df_flat.show(15)\n",
    "\n",
    "df_flat.createOrReplaceTempView(\"flat\")"
   ]
  },
  {
   "cell_type": "code",
   "execution_count": 7,
   "id": "ddb63e50-8a51-42ed-87aa-2fbbecfb305a",
   "metadata": {},
   "outputs": [],
   "source": [
    "## формат данных даты\n",
    "df_flat = df_flat.\\\n",
    "    withColumn(\"execution_date\", col(\"execution_date\").cast(\"date\"))\n",
    "   #.\\ withColumn(\"dubbles_check\", concat(col('execution_date'), lit('_'), col('user_id'), lit('_'),  col('advert_id')))\n",
    "\n",
    "\n"
   ]
  },
  {
   "cell_type": "code",
   "execution_count": 8,
   "id": "f1126188-ca15-4957-bc79-1a69330aae42",
   "metadata": {
    "tags": []
   },
   "outputs": [
    {
     "name": "stderr",
     "output_type": "stream",
     "text": [
      "[Stage 25:>                                                         (0 + 1) / 2]\r"
     ]
    },
    {
     "name": "stdout",
     "output_type": "stream",
     "text": [
      "24/02/08 19:44:16 WARN MemoryStore: Not enough space to cache broadcast_25 in memory! (computed 304.0 MiB so far)\n",
      "24/02/08 19:44:16 WARN BlockManager: Persisting block broadcast_25 to disk instead.\n"
     ]
    },
    {
     "name": "stderr",
     "output_type": "stream",
     "text": [
      "                                                                                \r"
     ]
    },
    {
     "name": "stdout",
     "output_type": "stream",
     "text": [
      "24/02/08 19:44:19 WARN MemoryStore: Not enough space to cache broadcast_25 in memory! (computed 304.0 MiB so far)\n"
     ]
    },
    {
     "name": "stderr",
     "output_type": "stream",
     "text": [
      "[Stage 26:=============================>                            (1 + 1) / 2]\r"
     ]
    },
    {
     "name": "stdout",
     "output_type": "stream",
     "text": [
      "+--------+-------+\n",
      "|platform|   rows|\n",
      "+--------+-------+\n",
      "| android| 497454|\n",
      "| desktop| 562156|\n",
      "| unknown|    785|\n",
      "|  mobile|  46154|\n",
      "|     ios|1665112|\n",
      "+--------+-------+\n",
      "\n"
     ]
    },
    {
     "name": "stderr",
     "output_type": "stream",
     "text": [
      "                                                                                \r"
     ]
    }
   ],
   "source": [
    "## быстрая проверка\n",
    "spark.sql(f\"\"\"\n",
    "\n",
    "SELECT platform, count(*) as rows\n",
    "          from flat \n",
    "          group by platform\n",
    "          \"\"\").show()"
   ]
  },
  {
   "cell_type": "code",
   "execution_count": 17,
   "id": "fb8f3e6b-69f2-4dcc-a879-9e95230b3517",
   "metadata": {},
   "outputs": [
    {
     "name": "stderr",
     "output_type": "stream",
     "text": [
      "                                                                                \r"
     ]
    },
    {
     "name": "stdout",
     "output_type": "stream",
     "text": [
      "- a-papishvili/_SUCCESS\n",
      "- a-papishvili/flat_tab/_SUCCESS\n",
      "- a-papishvili/flat_tab/part-00000-a1a311ec-de9c-4991-8c51-6da65fedc6ad-c000.snappy.parquet\n",
      "- a-papishvili/flat_table/_SUCCESS\n",
      "- a-papishvili/flat_table/part-00000-28d28a23-14f5-45cd-9e43-aa55be07f01e-c000.snappy.parquet\n",
      "- a-papishvili/orders_test_write/_SUCCESS\n",
      "- a-papishvili/orders_test_write/part-00000-c0284323-716b-4d94-9ccb-aa5ded824d9d-c000.csv\n",
      "- a-papishvili/part-00000-766faecf-bbef-4eaf-ac51-fa20503c5c6a-c000.snappy.parquet\n"
     ]
    }
   ],
   "source": [
    "#сохранение данных на s3\n",
    "s3_file_name = 'flat_table'\n",
    "s2_format='parquet'\n",
    "\n",
    "df_flat.coalesce(1).write.format(\"parquet\").save(f\"s3a://{s3_bucket}/{student_directory}/{s3_file_name}\", mode='overwrite')\n",
    "\n",
    "\n",
    "# Получение списка объектов в S3-бакете и нужной директории\n",
    "response = s3.list_objects_v2(Bucket=s3_bucket, Prefix = 'a-papishvili/')\n",
    "file_name = []\n",
    "\n",
    "# Вывод списка объектов\n",
    "if 'Contents' in response:\n",
    "    for obj in response['Contents']:\n",
    "        print(f\"- {obj['Key']}\")\n",
    "        if 'flat_table' in obj['Key']:\n",
    "            \n",
    "            file_name.append(obj['Key'])\n",
    "else:\n",
    "    print(f\"No objects found in bucket '{s3_bucket}'\")\n"
   ]
  },
  {
   "cell_type": "markdown",
   "id": "fbeaa422-f667-4cf4-bf02-4d3325ac33cb",
   "metadata": {
    "tags": []
   },
   "source": [
    "## Переносим данные в clickhouse  <a class=\"anchor\" id=\"preparation_clickhouse\"></a>"
   ]
  },
  {
   "cell_type": "code",
   "execution_count": 18,
   "id": "64ddae30-ab3a-45f8-881e-ce7e27ef39ba",
   "metadata": {},
   "outputs": [],
   "source": [
    "# Таблица с движком S3, которая смотрит на сформированный ранее плоский файл. \n",
    "result = client.execute(\"\"\"\n",
    "DROP TABLE IF EXISTS hardda_student_data.prj_s3_ext_a_papishvili;\n",
    "\"\"\")\n",
    "\n",
    "\n",
    "result = client.execute(f\"\"\"                        \n",
    "\n",
    "create table hardda_student_data.prj_s3_ext_a_papishvili\n",
    "    (\n",
    "execution_date Date,\n",
    "advert_id  UInt64,\n",
    "region LowCardinality(String),\n",
    "user_id UInt64,\n",
    "platform LowCardinality(String),\n",
    "mark LowCardinality(Nullable(String)),\n",
    "model LowCardinality(Nullable(String)),\n",
    "price Nullable(Float32),\n",
    "year Nullable(UInt16),\n",
    "fuel LowCardinality(Nullable(String)),\n",
    "color LowCardinality(Nullable(String)),\n",
    "transmission LowCardinality(Nullable(String)),\n",
    "body LowCardinality(Nullable(String)),\n",
    "country LowCardinality(Nullable(String)), \n",
    "global_id Nullable(UInt64),\n",
    "user_type_name LowCardinality(Nullable(String)) \n",
    "     )\n",
    "\t\n",
    "ENGINE = S3('{s3_endpoint_url}/{s3_bucket}/{file_name[1]}', 'Parquet')\n",
    "\n",
    "PARTITION BY platform\n",
    "ORDER BY (platform) \n",
    "PRIMARY KEY (platform) \n",
    "    \n",
    "\"\"\")\n"
   ]
  },
  {
   "cell_type": "code",
   "execution_count": 19,
   "id": "b98717ee-d243-4c94-8a82-524c79609fe8",
   "metadata": {},
   "outputs": [
    {
     "data": {
      "text/html": [
       "<div>\n",
       "<style scoped>\n",
       "    .dataframe tbody tr th:only-of-type {\n",
       "        vertical-align: middle;\n",
       "    }\n",
       "\n",
       "    .dataframe tbody tr th {\n",
       "        vertical-align: top;\n",
       "    }\n",
       "\n",
       "    .dataframe thead th {\n",
       "        text-align: right;\n",
       "    }\n",
       "</style>\n",
       "<table border=\"1\" class=\"dataframe\">\n",
       "  <thead>\n",
       "    <tr style=\"text-align: right;\">\n",
       "      <th></th>\n",
       "      <th>execution_date</th>\n",
       "      <th>advert_id</th>\n",
       "      <th>region</th>\n",
       "      <th>user_id</th>\n",
       "      <th>platform</th>\n",
       "      <th>mark</th>\n",
       "      <th>model</th>\n",
       "      <th>price</th>\n",
       "      <th>year</th>\n",
       "      <th>fuel</th>\n",
       "      <th>color</th>\n",
       "      <th>transmission</th>\n",
       "      <th>body</th>\n",
       "      <th>country</th>\n",
       "      <th>global_id</th>\n",
       "      <th>user_type_name</th>\n",
       "    </tr>\n",
       "  </thead>\n",
       "  <tbody>\n",
       "    <tr>\n",
       "      <th>0</th>\n",
       "      <td>2020-12-25</td>\n",
       "      <td>236092185</td>\n",
       "      <td>Москва</td>\n",
       "      <td>123456986</td>\n",
       "      <td>ios</td>\n",
       "      <td>None</td>\n",
       "      <td>None</td>\n",
       "      <td>NaN</td>\n",
       "      <td>None</td>\n",
       "      <td>None</td>\n",
       "      <td>None</td>\n",
       "      <td>None</td>\n",
       "      <td>None</td>\n",
       "      <td>None</td>\n",
       "      <td>123456986</td>\n",
       "      <td>simple_user</td>\n",
       "    </tr>\n",
       "    <tr>\n",
       "      <th>1</th>\n",
       "      <td>2020-12-31</td>\n",
       "      <td>236092185</td>\n",
       "      <td>Москва</td>\n",
       "      <td>123456986</td>\n",
       "      <td>ios</td>\n",
       "      <td>None</td>\n",
       "      <td>None</td>\n",
       "      <td>NaN</td>\n",
       "      <td>None</td>\n",
       "      <td>None</td>\n",
       "      <td>None</td>\n",
       "      <td>None</td>\n",
       "      <td>None</td>\n",
       "      <td>None</td>\n",
       "      <td>123456986</td>\n",
       "      <td>simple_user</td>\n",
       "    </tr>\n",
       "    <tr>\n",
       "      <th>2</th>\n",
       "      <td>2021-01-07</td>\n",
       "      <td>236092185</td>\n",
       "      <td>Москва</td>\n",
       "      <td>123456986</td>\n",
       "      <td>ios</td>\n",
       "      <td>None</td>\n",
       "      <td>None</td>\n",
       "      <td>NaN</td>\n",
       "      <td>None</td>\n",
       "      <td>None</td>\n",
       "      <td>None</td>\n",
       "      <td>None</td>\n",
       "      <td>None</td>\n",
       "      <td>None</td>\n",
       "      <td>123456986</td>\n",
       "      <td>simple_user</td>\n",
       "    </tr>\n",
       "    <tr>\n",
       "      <th>3</th>\n",
       "      <td>2021-01-24</td>\n",
       "      <td>236092185</td>\n",
       "      <td>Москва</td>\n",
       "      <td>123456986</td>\n",
       "      <td>ios</td>\n",
       "      <td>None</td>\n",
       "      <td>None</td>\n",
       "      <td>NaN</td>\n",
       "      <td>None</td>\n",
       "      <td>None</td>\n",
       "      <td>None</td>\n",
       "      <td>None</td>\n",
       "      <td>None</td>\n",
       "      <td>None</td>\n",
       "      <td>123456986</td>\n",
       "      <td>simple_user</td>\n",
       "    </tr>\n",
       "    <tr>\n",
       "      <th>4</th>\n",
       "      <td>2021-01-25</td>\n",
       "      <td>256283734</td>\n",
       "      <td>Москва</td>\n",
       "      <td>123456986</td>\n",
       "      <td>ios</td>\n",
       "      <td>None</td>\n",
       "      <td>None</td>\n",
       "      <td>2000.0</td>\n",
       "      <td>None</td>\n",
       "      <td>None</td>\n",
       "      <td>None</td>\n",
       "      <td>None</td>\n",
       "      <td>None</td>\n",
       "      <td>None</td>\n",
       "      <td>123456986</td>\n",
       "      <td>simple_user</td>\n",
       "    </tr>\n",
       "  </tbody>\n",
       "</table>\n",
       "</div>"
      ],
      "text/plain": [
       "  execution_date  advert_id  region    user_id platform  mark model   price  \\\n",
       "0     2020-12-25  236092185  Москва  123456986      ios  None  None     NaN   \n",
       "1     2020-12-31  236092185  Москва  123456986      ios  None  None     NaN   \n",
       "2     2021-01-07  236092185  Москва  123456986      ios  None  None     NaN   \n",
       "3     2021-01-24  236092185  Москва  123456986      ios  None  None     NaN   \n",
       "4     2021-01-25  256283734  Москва  123456986      ios  None  None  2000.0   \n",
       "\n",
       "   year  fuel color transmission  body country  global_id user_type_name  \n",
       "0  None  None  None         None  None    None  123456986    simple_user  \n",
       "1  None  None  None         None  None    None  123456986    simple_user  \n",
       "2  None  None  None         None  None    None  123456986    simple_user  \n",
       "3  None  None  None         None  None    None  123456986    simple_user  \n",
       "4  None  None  None         None  None    None  123456986    simple_user  "
      ]
     },
     "execution_count": 19,
     "metadata": {},
     "output_type": "execute_result"
    }
   ],
   "source": [
    "## проверяем S3 данные\n",
    "\n",
    "result = client.execute(f\"\"\"SELECT * \n",
    "                            FROM hardda_student_data.prj_s3_ext_a_papishvili\n",
    "                            limit 5\n",
    "                            \"\"\")\n",
    "\n",
    "pd.DataFrame(result, columns=df_flat.columns)"
   ]
  },
  {
   "cell_type": "code",
   "execution_count": 20,
   "id": "373fb7dc-70b2-44fc-a7fb-37660eda86b7",
   "metadata": {},
   "outputs": [
    {
     "data": {
      "text/plain": [
       "[('', '', '')]"
      ]
     },
     "execution_count": 20,
     "metadata": {},
     "output_type": "execute_result"
    }
   ],
   "source": [
    "result = client.execute(\"\"\"SELECT partition_key, primary_key, sorting_key\n",
    "                        FROM system.tables WHERE database='hardda_student_data' and table = 'prj_s3_ext_a_papishvili'\n",
    "                        \"\"\")\n",
    "\n",
    "result"
   ]
  },
  {
   "cell_type": "code",
   "execution_count": 21,
   "id": "fd489a40-9f7e-4c48-9cbe-4d6bba50e980",
   "metadata": {},
   "outputs": [
    {
     "data": {
      "text/html": [
       "<div>\n",
       "<style scoped>\n",
       "    .dataframe tbody tr th:only-of-type {\n",
       "        vertical-align: middle;\n",
       "    }\n",
       "\n",
       "    .dataframe tbody tr th {\n",
       "        vertical-align: top;\n",
       "    }\n",
       "\n",
       "    .dataframe thead th {\n",
       "        text-align: right;\n",
       "    }\n",
       "</style>\n",
       "<table border=\"1\" class=\"dataframe\">\n",
       "  <thead>\n",
       "    <tr style=\"text-align: right;\">\n",
       "      <th></th>\n",
       "      <th>execution_date</th>\n",
       "      <th>advert_id</th>\n",
       "      <th>region</th>\n",
       "      <th>user_id</th>\n",
       "      <th>platform</th>\n",
       "      <th>mark</th>\n",
       "      <th>model</th>\n",
       "      <th>price</th>\n",
       "      <th>year</th>\n",
       "      <th>fuel</th>\n",
       "      <th>color</th>\n",
       "      <th>transmission</th>\n",
       "      <th>body</th>\n",
       "      <th>country</th>\n",
       "      <th>global_id</th>\n",
       "      <th>user_type_name</th>\n",
       "    </tr>\n",
       "  </thead>\n",
       "  <tbody>\n",
       "  </tbody>\n",
       "</table>\n",
       "</div>"
      ],
      "text/plain": [
       "Empty DataFrame\n",
       "Columns: [execution_date, advert_id, region, user_id, platform, mark, model, price, year, fuel, color, transmission, body, country, global_id, user_type_name]\n",
       "Index: []"
      ]
     },
     "execution_count": 21,
     "metadata": {},
     "output_type": "execute_result"
    }
   ],
   "source": [
    "# Создаем заготовку mergeTree\n",
    "\n",
    "result = client.execute(\"\"\"\n",
    "DROP TABLE IF EXISTS hardda_student_data.prj_main_a_papishvili;\n",
    "\"\"\")\n",
    "\n",
    "result = client.execute(f\"\"\"                        \n",
    "\n",
    "create table hardda_student_data.prj_main_a_papishvili\n",
    "    (\n",
    "execution_date Date,\n",
    "advert_id  UInt64,\n",
    "region LowCardinality(String),\n",
    "user_id UInt64,\n",
    "platform LowCardinality(String),\n",
    "mark LowCardinality(Nullable(String)),\n",
    "model LowCardinality(Nullable(String)),\n",
    "price Nullable(Float32),\n",
    "year Nullable(UInt16),\n",
    "fuel LowCardinality(Nullable(String)),\n",
    "color LowCardinality(Nullable(String)),\n",
    "transmission LowCardinality(Nullable(String)),\n",
    "body LowCardinality(Nullable(String)),\n",
    "country LowCardinality(Nullable(String)), \n",
    "global_id Nullable(UInt64),\n",
    "user_type_name LowCardinality(Nullable(String)) \n",
    "     )\n",
    "    ENGINE = MergeTree \n",
    " PARTITION BY platform\n",
    "ORDER BY (execution_date, advert_id) \n",
    "PRIMARY KEY (execution_date, advert_id) \n",
    "SETTINGS index_granularity = 8192 \n",
    "\"\"\")\n",
    "\n",
    "\n",
    "result = client.execute(\"\"\"SELECT *\n",
    "                           FROM hardda_student_data.prj_main_a_papishvili\n",
    "                           limit 1\n",
    "                       \"\"\")\n",
    "\n",
    "pd.DataFrame(result, columns=df_flat.columns)"
   ]
  },
  {
   "cell_type": "markdown",
   "id": "f3dee563-3268-444d-82a8-4b522df73729",
   "metadata": {},
   "source": [
    "#### Подготавливаем МП для решения задач"
   ]
  },
  {
   "cell_type": "code",
   "execution_count": 22,
   "id": "1f3ac4d8-6893-4da6-a53c-2f4fb37ea2f0",
   "metadata": {},
   "outputs": [],
   "source": [
    "# Materialized View 1\n",
    "\n",
    "result = client.execute(\"\"\"DROP TABLE IF EXISTS hardda_student_data.prj_main_a_papishvili_agg_view_1;\"\"\")\n",
    "\\\n",
    "\n",
    "result = client.execute(f\"\"\"                        \n",
    "CREATE MATERIALIZED VIEW hardda_student_data.prj_main_a_papishvili_agg_view_1\n",
    "    (execution_date Date,\n",
    "    platform LowCardinality(String),\n",
    "    user_type_name LowCardinality(Nullable(String)),    \n",
    "\t\n",
    "    min_price SimpleAggregateFunction(min,  Nullable(Float32)),\n",
    "    price_quantiles  AggregateFunction(quantiles(0.25, 0.75),  Nullable(Float32)),\n",
    "    price_quantiles_ex  AggregateFunction(quantilesExactExclusive(0.25, 0.75),  Nullable(Float32)),\n",
    "    average_price AggregateFunction(avgOrNull,  Nullable(Float32)),\n",
    "    max_price SimpleAggregateFunction(max,  Nullable(Float32))\n",
    "     )\n",
    "\t \n",
    "ENGINE = AggregatingMergeTree\n",
    "PARTITION BY platform\n",
    "ORDER BY (execution_date, platform, user_type_name) \n",
    "\n",
    "AS SELECT\n",
    "    execution_date, platform, user_type_name,  \n",
    "    min(price) as min_price,\n",
    "    quantilesState(0.25, 0.75)(price) as price_quantiles,\n",
    "    quantilesExactExclusiveState(0.25, 0.75)(price) as price_quantiles_ex,\n",
    "    avgOrNullState(price) as average_price,\n",
    "    max(price) as max_price\n",
    "\n",
    "FROM hardda_student_data.prj_main_a_papishvili\n",
    "WHERE price IS NOT NULL\n",
    "GROUP BY execution_date, platform, user_type_name\n",
    "\"\"\")\n"
   ]
  },
  {
   "cell_type": "code",
   "execution_count": 23,
   "id": "a3b6ab8d-f1cb-46ca-a898-846f15cb5853",
   "metadata": {},
   "outputs": [],
   "source": [
    "# Materialized View 2\n",
    "\n",
    "result = client.execute(\"\"\"DROP TABLE IF EXISTS hardda_student_data.prj_main_a_papishvili_agg_view_2;\"\"\")\n",
    "\n",
    "result = client.execute(f\"\"\"                        \n",
    "CREATE MATERIALIZED VIEW hardda_student_data.prj_main_a_papishvili_agg_view_2\n",
    "    (advert_id UInt64,\n",
    "\tuser_id UInt64,\n",
    "\tmark LowCardinality(Nullable(String)),\n",
    "\tmodel LowCardinality(Nullable(String)),\n",
    "\n",
    "    min_date SimpleAggregateFunction(min,  Date),\n",
    "    max_date SimpleAggregateFunction(max,  Date),\n",
    "\t\n",
    "    min_price SimpleAggregateFunction(min,  Nullable(Float32)),\n",
    "    price_quantiles  AggregateFunction(quantiles(0.5),  Nullable(Float32)),\n",
    "    price_quantiles_ex  AggregateFunction(quantilesExactExclusive(0.5),  Nullable(Float32)),\n",
    "    average_price AggregateFunction(avgOrNull,  Nullable(Float32)),\n",
    "    max_price SimpleAggregateFunction(max,  Nullable(Float32))\n",
    "     )\n",
    "\t \n",
    "ENGINE = AggregatingMergeTree\n",
    "PARTITION BY mark\n",
    "ORDER BY (advert_id, user_id) \n",
    "\n",
    "AS SELECT\n",
    "    advert_id, user_id, mark, model, \n",
    "    min(execution_date) as min_date, \n",
    "    max(execution_date) as max_date, \n",
    "\t\n",
    "    min(price) as min_price,\n",
    "    quantilesState(0.5)(price) as price_quantiles,\n",
    "    quantilesExactExclusiveState(0.5)(price) as price_quantiles_ex,\n",
    "    avgOrNullState(price) as average_price,\n",
    "    max(price) as max_price\n",
    "\n",
    "FROM hardda_student_data.prj_main_a_papishvili\n",
    "WHERE price IS NOT NULL\n",
    "GROUP BY advert_id, user_id, mark, model\n",
    "\n",
    "\"\"\")\n"
   ]
  },
  {
   "cell_type": "code",
   "execution_count": 24,
   "id": "4d9b3588-0cef-45cd-8efc-e04d46a2135f",
   "metadata": {},
   "outputs": [],
   "source": [
    "# Materialized View 3\n",
    "\n",
    "result = client.execute(\"\"\"DROP TABLE IF EXISTS hardda_student_data.prj_main_a_papishvili_agg_view_3;\"\"\")\n",
    "\n",
    "result = client.execute(f\"\"\"                        \n",
    "CREATE MATERIALIZED VIEW hardda_student_data.prj_main_a_papishvili_agg_view_3\n",
    "    (advert_id UInt64,\n",
    "    user_type_name LowCardinality(Nullable(String)),\n",
    "    mark LowCardinality(Nullable(String)),\n",
    "\n",
    "    min_date SimpleAggregateFunction(min,  Date),\n",
    "    max_date SimpleAggregateFunction(max,  Date),\n",
    "    \n",
    "    min_price SimpleAggregateFunction(min,  Nullable(Float32)),\n",
    "    price_quantiles  AggregateFunction(quantiles(0.5),  Nullable(Float32)),\n",
    "    price_quantiles_ex  AggregateFunction(quantilesExactExclusive(0.5),  Nullable(Float32)),\n",
    "    average_price AggregateFunction(avgOrNull,  Nullable(Float32)),\n",
    "    max_price SimpleAggregateFunction(max,  Nullable(Float32))\n",
    "     )\n",
    "     \n",
    "ENGINE = AggregatingMergeTree\n",
    "PARTITION BY mark\n",
    "ORDER BY (advert_id) \n",
    "\n",
    "AS SELECT\n",
    "    advert_id, user_type_name, mark, \n",
    "    min(execution_date) as min_date, \n",
    "    max(execution_date) as max_date, \n",
    "    \n",
    "    min(price) as min_price,\n",
    "    quantilesState(0.5)(price) as price_quantiles,\n",
    "    quantilesExactExclusiveState(0.5)(price) as price_quantiles_ex,\n",
    "    avgOrNullState(price) as average_price,\n",
    "    max(price) as max_price\n",
    "\n",
    "FROM hardda_student_data.prj_main_a_papishvili\n",
    "GROUP BY advert_id, user_type_name, mark\n",
    "\n",
    "\"\"\")"
   ]
  },
  {
   "cell_type": "code",
   "execution_count": 25,
   "id": "3d9c22b4-47e9-4641-beb8-08f845c0ca1a",
   "metadata": {},
   "outputs": [
    {
     "data": {
      "text/html": [
       "<div>\n",
       "<style scoped>\n",
       "    .dataframe tbody tr th:only-of-type {\n",
       "        vertical-align: middle;\n",
       "    }\n",
       "\n",
       "    .dataframe tbody tr th {\n",
       "        vertical-align: top;\n",
       "    }\n",
       "\n",
       "    .dataframe thead th {\n",
       "        text-align: right;\n",
       "    }\n",
       "</style>\n",
       "<table border=\"1\" class=\"dataframe\">\n",
       "  <thead>\n",
       "    <tr style=\"text-align: right;\">\n",
       "      <th></th>\n",
       "      <th>execution_date</th>\n",
       "      <th>advert_id</th>\n",
       "      <th>region</th>\n",
       "      <th>user_id</th>\n",
       "      <th>platform</th>\n",
       "      <th>mark</th>\n",
       "      <th>model</th>\n",
       "      <th>price</th>\n",
       "      <th>year</th>\n",
       "      <th>fuel</th>\n",
       "      <th>color</th>\n",
       "      <th>transmission</th>\n",
       "      <th>body</th>\n",
       "      <th>country</th>\n",
       "      <th>global_id</th>\n",
       "      <th>user_type_name</th>\n",
       "    </tr>\n",
       "  </thead>\n",
       "  <tbody>\n",
       "    <tr>\n",
       "      <th>0</th>\n",
       "      <td>2020-11-12</td>\n",
       "      <td>151579689</td>\n",
       "      <td>Сочи</td>\n",
       "      <td>124045733</td>\n",
       "      <td>unknown</td>\n",
       "      <td>None</td>\n",
       "      <td>None</td>\n",
       "      <td>2000.0</td>\n",
       "      <td>NaN</td>\n",
       "      <td>None</td>\n",
       "      <td>None</td>\n",
       "      <td>None</td>\n",
       "      <td>None</td>\n",
       "      <td>None</td>\n",
       "      <td>124045733</td>\n",
       "      <td>profi</td>\n",
       "    </tr>\n",
       "    <tr>\n",
       "      <th>1</th>\n",
       "      <td>2020-11-14</td>\n",
       "      <td>130582517</td>\n",
       "      <td>Сочи</td>\n",
       "      <td>123464584</td>\n",
       "      <td>unknown</td>\n",
       "      <td>None</td>\n",
       "      <td>None</td>\n",
       "      <td>NaN</td>\n",
       "      <td>NaN</td>\n",
       "      <td>None</td>\n",
       "      <td>None</td>\n",
       "      <td>None</td>\n",
       "      <td>None</td>\n",
       "      <td>None</td>\n",
       "      <td>123464584</td>\n",
       "      <td>simple_user</td>\n",
       "    </tr>\n",
       "    <tr>\n",
       "      <th>2</th>\n",
       "      <td>2020-11-14</td>\n",
       "      <td>131290038</td>\n",
       "      <td>Казань</td>\n",
       "      <td>123661493</td>\n",
       "      <td>unknown</td>\n",
       "      <td>None</td>\n",
       "      <td>None</td>\n",
       "      <td>NaN</td>\n",
       "      <td>NaN</td>\n",
       "      <td>None</td>\n",
       "      <td>None</td>\n",
       "      <td>None</td>\n",
       "      <td>None</td>\n",
       "      <td>None</td>\n",
       "      <td>123661493</td>\n",
       "      <td>simple_user</td>\n",
       "    </tr>\n",
       "    <tr>\n",
       "      <th>3</th>\n",
       "      <td>2020-11-14</td>\n",
       "      <td>131543541</td>\n",
       "      <td>Казань</td>\n",
       "      <td>123661493</td>\n",
       "      <td>unknown</td>\n",
       "      <td>None</td>\n",
       "      <td>None</td>\n",
       "      <td>NaN</td>\n",
       "      <td>NaN</td>\n",
       "      <td>None</td>\n",
       "      <td>None</td>\n",
       "      <td>None</td>\n",
       "      <td>None</td>\n",
       "      <td>None</td>\n",
       "      <td>123661493</td>\n",
       "      <td>simple_user</td>\n",
       "    </tr>\n",
       "    <tr>\n",
       "      <th>4</th>\n",
       "      <td>2020-11-14</td>\n",
       "      <td>137514150</td>\n",
       "      <td>Омск</td>\n",
       "      <td>124207514</td>\n",
       "      <td>unknown</td>\n",
       "      <td>None</td>\n",
       "      <td>None</td>\n",
       "      <td>114000.0</td>\n",
       "      <td>2014.0</td>\n",
       "      <td>None</td>\n",
       "      <td>None</td>\n",
       "      <td>None</td>\n",
       "      <td>None</td>\n",
       "      <td>None</td>\n",
       "      <td>124207514</td>\n",
       "      <td>profi</td>\n",
       "    </tr>\n",
       "    <tr>\n",
       "      <th>5</th>\n",
       "      <td>2020-11-14</td>\n",
       "      <td>145314141</td>\n",
       "      <td>Уфа</td>\n",
       "      <td>124243239</td>\n",
       "      <td>unknown</td>\n",
       "      <td>None</td>\n",
       "      <td>None</td>\n",
       "      <td>NaN</td>\n",
       "      <td>NaN</td>\n",
       "      <td>None</td>\n",
       "      <td>None</td>\n",
       "      <td>None</td>\n",
       "      <td>None</td>\n",
       "      <td>None</td>\n",
       "      <td>124243239</td>\n",
       "      <td>simple_user</td>\n",
       "    </tr>\n",
       "    <tr>\n",
       "      <th>6</th>\n",
       "      <td>2020-11-14</td>\n",
       "      <td>157216679</td>\n",
       "      <td>Сочи</td>\n",
       "      <td>126767248</td>\n",
       "      <td>unknown</td>\n",
       "      <td>None</td>\n",
       "      <td>None</td>\n",
       "      <td>NaN</td>\n",
       "      <td>NaN</td>\n",
       "      <td>None</td>\n",
       "      <td>None</td>\n",
       "      <td>None</td>\n",
       "      <td>None</td>\n",
       "      <td>None</td>\n",
       "      <td>126767248</td>\n",
       "      <td>simple_user</td>\n",
       "    </tr>\n",
       "    <tr>\n",
       "      <th>7</th>\n",
       "      <td>2020-11-15</td>\n",
       "      <td>127593536</td>\n",
       "      <td>Омск</td>\n",
       "      <td>123628037</td>\n",
       "      <td>unknown</td>\n",
       "      <td>None</td>\n",
       "      <td>None</td>\n",
       "      <td>NaN</td>\n",
       "      <td>NaN</td>\n",
       "      <td>None</td>\n",
       "      <td>None</td>\n",
       "      <td>None</td>\n",
       "      <td>None</td>\n",
       "      <td>None</td>\n",
       "      <td>123628037</td>\n",
       "      <td>profi</td>\n",
       "    </tr>\n",
       "    <tr>\n",
       "      <th>8</th>\n",
       "      <td>2020-11-15</td>\n",
       "      <td>131647492</td>\n",
       "      <td>Пермь</td>\n",
       "      <td>123750125</td>\n",
       "      <td>unknown</td>\n",
       "      <td>None</td>\n",
       "      <td>None</td>\n",
       "      <td>NaN</td>\n",
       "      <td>NaN</td>\n",
       "      <td>None</td>\n",
       "      <td>None</td>\n",
       "      <td>None</td>\n",
       "      <td>None</td>\n",
       "      <td>None</td>\n",
       "      <td>123750125</td>\n",
       "      <td>profi</td>\n",
       "    </tr>\n",
       "    <tr>\n",
       "      <th>9</th>\n",
       "      <td>2020-11-15</td>\n",
       "      <td>157216679</td>\n",
       "      <td>Сочи</td>\n",
       "      <td>126767248</td>\n",
       "      <td>unknown</td>\n",
       "      <td>None</td>\n",
       "      <td>None</td>\n",
       "      <td>NaN</td>\n",
       "      <td>NaN</td>\n",
       "      <td>None</td>\n",
       "      <td>None</td>\n",
       "      <td>None</td>\n",
       "      <td>None</td>\n",
       "      <td>None</td>\n",
       "      <td>126767248</td>\n",
       "      <td>simple_user</td>\n",
       "    </tr>\n",
       "  </tbody>\n",
       "</table>\n",
       "</div>"
      ],
      "text/plain": [
       "  execution_date  advert_id  region    user_id platform  mark model     price  \\\n",
       "0     2020-11-12  151579689    Сочи  124045733  unknown  None  None    2000.0   \n",
       "1     2020-11-14  130582517    Сочи  123464584  unknown  None  None       NaN   \n",
       "2     2020-11-14  131290038  Казань  123661493  unknown  None  None       NaN   \n",
       "3     2020-11-14  131543541  Казань  123661493  unknown  None  None       NaN   \n",
       "4     2020-11-14  137514150    Омск  124207514  unknown  None  None  114000.0   \n",
       "5     2020-11-14  145314141     Уфа  124243239  unknown  None  None       NaN   \n",
       "6     2020-11-14  157216679    Сочи  126767248  unknown  None  None       NaN   \n",
       "7     2020-11-15  127593536    Омск  123628037  unknown  None  None       NaN   \n",
       "8     2020-11-15  131647492   Пермь  123750125  unknown  None  None       NaN   \n",
       "9     2020-11-15  157216679    Сочи  126767248  unknown  None  None       NaN   \n",
       "\n",
       "     year  fuel color transmission  body country  global_id user_type_name  \n",
       "0     NaN  None  None         None  None    None  124045733          profi  \n",
       "1     NaN  None  None         None  None    None  123464584    simple_user  \n",
       "2     NaN  None  None         None  None    None  123661493    simple_user  \n",
       "3     NaN  None  None         None  None    None  123661493    simple_user  \n",
       "4  2014.0  None  None         None  None    None  124207514          profi  \n",
       "5     NaN  None  None         None  None    None  124243239    simple_user  \n",
       "6     NaN  None  None         None  None    None  126767248    simple_user  \n",
       "7     NaN  None  None         None  None    None  123628037          profi  \n",
       "8     NaN  None  None         None  None    None  123750125          profi  \n",
       "9     NaN  None  None         None  None    None  126767248    simple_user  "
      ]
     },
     "execution_count": 25,
     "metadata": {},
     "output_type": "execute_result"
    }
   ],
   "source": [
    "## заполняем MergeTree данными из s3\n",
    "\n",
    "result = client.execute(f\"\"\"INSERT INTO hardda_student_data.prj_main_a_papishvili \n",
    "                            SELECT * \n",
    "                            FROM hardda_student_data.prj_s3_ext_a_papishvili\n",
    "                            \"\"\")\n",
    "\n",
    "## проверяем MergeTree данные\n",
    "result = client.execute(f\"\"\"SELECT * \n",
    "                            FROM hardda_student_data.prj_main_a_papishvili \n",
    "                            limit 10\n",
    "                            \"\"\")\n",
    "\n",
    "pd.DataFrame(result, columns=df_flat.columns)\n"
   ]
  },
  {
   "cell_type": "markdown",
   "id": "9eced515-9b5e-4a00-b7dc-06b8f8f0e84c",
   "metadata": {
    "tags": []
   },
   "source": [
    "# Задача 1 <a class=\"anchor\" id=\"task1\"></a>\n",
    "Одна из стратегических задач классифайда — привлекать продавцов с более низкими ценами. \n",
    "Гипотеза команды привлечения заключается в том, что такие пользователи более положительно влияют на количество контактов между продавцами и покупателями.\n",
    "\n",
    "- Правда ли, что цены профессионалов больше, чем цены простых пользователей?"
   ]
  },
  {
   "cell_type": "markdown",
   "id": "68967fe9-12ca-43cc-a23a-3574c2df018a",
   "metadata": {},
   "source": [
    "### Загрузка и чистка данных <a class=\"anchor\" id=\"task1_data_prep\"></a>"
   ]
  },
  {
   "cell_type": "code",
   "execution_count": 26,
   "id": "0efbcb50-cc2e-4167-aab5-2c7f71a8e4ad",
   "metadata": {},
   "outputs": [
    {
     "data": {
      "text/html": [
       "<div>\n",
       "<style scoped>\n",
       "    .dataframe tbody tr th:only-of-type {\n",
       "        vertical-align: middle;\n",
       "    }\n",
       "\n",
       "    .dataframe tbody tr th {\n",
       "        vertical-align: top;\n",
       "    }\n",
       "\n",
       "    .dataframe thead th {\n",
       "        text-align: right;\n",
       "    }\n",
       "</style>\n",
       "<table border=\"1\" class=\"dataframe\">\n",
       "  <thead>\n",
       "    <tr style=\"text-align: right;\">\n",
       "      <th></th>\n",
       "      <th>execution_date</th>\n",
       "      <th>platform</th>\n",
       "      <th>user_type_name</th>\n",
       "      <th>min_price</th>\n",
       "      <th>price_quantiles</th>\n",
       "      <th>price_quantiles_ex</th>\n",
       "      <th>average_price</th>\n",
       "      <th>max_price</th>\n",
       "    </tr>\n",
       "  </thead>\n",
       "  <tbody>\n",
       "    <tr>\n",
       "      <th>0</th>\n",
       "      <td>2021-09-24</td>\n",
       "      <td>unknown</td>\n",
       "      <td>simple_user</td>\n",
       "      <td>2800000.0</td>\n",
       "      <td>[2800000.0, 2800000.0]</td>\n",
       "      <td>[2800000.0, 2800000.0]</td>\n",
       "      <td>2.800000e+06</td>\n",
       "      <td>2800000.0</td>\n",
       "    </tr>\n",
       "    <tr>\n",
       "      <th>1</th>\n",
       "      <td>2021-03-25</td>\n",
       "      <td>mobile</td>\n",
       "      <td>simple_user</td>\n",
       "      <td>0.0</td>\n",
       "      <td>[1000000.0, 3000000.0]</td>\n",
       "      <td>[4000000.0, 0.0]</td>\n",
       "      <td>2.000000e+06</td>\n",
       "      <td>4000000.0</td>\n",
       "    </tr>\n",
       "    <tr>\n",
       "      <th>2</th>\n",
       "      <td>2021-04-02</td>\n",
       "      <td>desktop</td>\n",
       "      <td>profi</td>\n",
       "      <td>0.0</td>\n",
       "      <td>[4000.0, 56000.0]</td>\n",
       "      <td>[4000.0, 56000.0]</td>\n",
       "      <td>4.735258e+05</td>\n",
       "      <td>9218195.0</td>\n",
       "    </tr>\n",
       "    <tr>\n",
       "      <th>3</th>\n",
       "      <td>2021-05-06</td>\n",
       "      <td>ios</td>\n",
       "      <td>profi</td>\n",
       "      <td>0.0</td>\n",
       "      <td>[3000.0, 20000.0]</td>\n",
       "      <td>[3000.0, 20000.0]</td>\n",
       "      <td>5.333361e+04</td>\n",
       "      <td>12000000.0</td>\n",
       "    </tr>\n",
       "    <tr>\n",
       "      <th>4</th>\n",
       "      <td>2021-01-18</td>\n",
       "      <td>desktop</td>\n",
       "      <td>simple_user</td>\n",
       "      <td>0.0</td>\n",
       "      <td>[4750.0, 18250.0]</td>\n",
       "      <td>[4250.0, 18750.0]</td>\n",
       "      <td>2.180199e+05</td>\n",
       "      <td>5120000.0</td>\n",
       "    </tr>\n",
       "  </tbody>\n",
       "</table>\n",
       "</div>"
      ],
      "text/plain": [
       "  execution_date platform user_type_name  min_price         price_quantiles  \\\n",
       "0     2021-09-24  unknown    simple_user  2800000.0  [2800000.0, 2800000.0]   \n",
       "1     2021-03-25   mobile    simple_user        0.0  [1000000.0, 3000000.0]   \n",
       "2     2021-04-02  desktop          profi        0.0       [4000.0, 56000.0]   \n",
       "3     2021-05-06      ios          profi        0.0       [3000.0, 20000.0]   \n",
       "4     2021-01-18  desktop    simple_user        0.0       [4750.0, 18250.0]   \n",
       "\n",
       "       price_quantiles_ex  average_price   max_price  \n",
       "0  [2800000.0, 2800000.0]   2.800000e+06   2800000.0  \n",
       "1        [4000000.0, 0.0]   2.000000e+06   4000000.0  \n",
       "2       [4000.0, 56000.0]   4.735258e+05   9218195.0  \n",
       "3       [3000.0, 20000.0]   5.333361e+04  12000000.0  \n",
       "4       [4250.0, 18750.0]   2.180199e+05   5120000.0  "
      ]
     },
     "execution_count": 26,
     "metadata": {},
     "output_type": "execute_result"
    }
   ],
   "source": [
    "##ПРоверяем МП1\n",
    "result = client.execute(f\"\"\"\n",
    "SELECT\n",
    "    execution_date, platform, user_type_name,  \n",
    "    \n",
    "    min(min_price) as min_price,\n",
    "    quantilesMerge(0.25, 0.75)(price_quantiles) as price_quantiles,\n",
    "    quantilesExactExclusiveMerge(0.25, 0.75)(price_quantiles_ex) as price_quantiles_ex,\n",
    "    avgOrNullMerge(average_price) as average_price,\n",
    "    max(max_price) as max_price\n",
    "\n",
    "FROM hardda_student_data.prj_main_a_papishvili_agg_view_1\n",
    "WHERE user_type_name in ('profi', 'simple_user') \n",
    "GROUP BY execution_date, platform, user_type_name\n",
    "\"\"\")\n",
    "\n",
    "df1 = pd.DataFrame(result, columns=['execution_date', 'platform', 'user_type_name', 'min_price', 'price_quantiles', 'price_quantiles_ex', 'average_price', 'max_price'])\n",
    "df1.head()"
   ]
  },
  {
   "cell_type": "code",
   "execution_count": 27,
   "id": "a68e7ee6-6788-463c-9887-8eb38822184a",
   "metadata": {},
   "outputs": [
    {
     "data": {
      "text/html": [
       "<div>\n",
       "<style scoped>\n",
       "    .dataframe tbody tr th:only-of-type {\n",
       "        vertical-align: middle;\n",
       "    }\n",
       "\n",
       "    .dataframe tbody tr th {\n",
       "        vertical-align: top;\n",
       "    }\n",
       "\n",
       "    .dataframe thead th {\n",
       "        text-align: right;\n",
       "    }\n",
       "</style>\n",
       "<table border=\"1\" class=\"dataframe\">\n",
       "  <thead>\n",
       "    <tr style=\"text-align: right;\">\n",
       "      <th></th>\n",
       "      <th>execution_date</th>\n",
       "      <th>platform</th>\n",
       "      <th>user_type_name</th>\n",
       "      <th>min_price</th>\n",
       "      <th>price_quantiles</th>\n",
       "      <th>price_quantiles_ex</th>\n",
       "      <th>average_price</th>\n",
       "      <th>max_price</th>\n",
       "      <th>price_quantiles25</th>\n",
       "      <th>price_quantiles75</th>\n",
       "    </tr>\n",
       "  </thead>\n",
       "  <tbody>\n",
       "    <tr>\n",
       "      <th>0</th>\n",
       "      <td>2021-09-24</td>\n",
       "      <td>unknown</td>\n",
       "      <td>simple_user</td>\n",
       "      <td>2800000.0</td>\n",
       "      <td>[2800000.0, 2800000.0]</td>\n",
       "      <td>[2800000.0, 2800000.0]</td>\n",
       "      <td>2800000.0</td>\n",
       "      <td>2800000.0</td>\n",
       "      <td>2800000.0</td>\n",
       "      <td>2800000.0</td>\n",
       "    </tr>\n",
       "    <tr>\n",
       "      <th>1</th>\n",
       "      <td>2021-03-25</td>\n",
       "      <td>mobile</td>\n",
       "      <td>simple_user</td>\n",
       "      <td>0.0</td>\n",
       "      <td>[1000000.0, 3000000.0]</td>\n",
       "      <td>[4000000.0, 0.0]</td>\n",
       "      <td>2000000.0</td>\n",
       "      <td>4000000.0</td>\n",
       "      <td>1000000.0</td>\n",
       "      <td>3000000.0</td>\n",
       "    </tr>\n",
       "    <tr>\n",
       "      <th>2</th>\n",
       "      <td>2021-04-02</td>\n",
       "      <td>desktop</td>\n",
       "      <td>profi</td>\n",
       "      <td>0.0</td>\n",
       "      <td>[4000.0, 56000.0]</td>\n",
       "      <td>[4000.0, 56000.0]</td>\n",
       "      <td>473526.0</td>\n",
       "      <td>9218195.0</td>\n",
       "      <td>4000.0</td>\n",
       "      <td>56000.0</td>\n",
       "    </tr>\n",
       "    <tr>\n",
       "      <th>3</th>\n",
       "      <td>2021-05-06</td>\n",
       "      <td>ios</td>\n",
       "      <td>profi</td>\n",
       "      <td>0.0</td>\n",
       "      <td>[3000.0, 20000.0]</td>\n",
       "      <td>[3000.0, 20000.0]</td>\n",
       "      <td>53334.0</td>\n",
       "      <td>12000000.0</td>\n",
       "      <td>3000.0</td>\n",
       "      <td>20000.0</td>\n",
       "    </tr>\n",
       "    <tr>\n",
       "      <th>4</th>\n",
       "      <td>2021-01-18</td>\n",
       "      <td>desktop</td>\n",
       "      <td>simple_user</td>\n",
       "      <td>0.0</td>\n",
       "      <td>[4750.0, 18250.0]</td>\n",
       "      <td>[4250.0, 18750.0]</td>\n",
       "      <td>218020.0</td>\n",
       "      <td>5120000.0</td>\n",
       "      <td>4750.0</td>\n",
       "      <td>18250.0</td>\n",
       "    </tr>\n",
       "  </tbody>\n",
       "</table>\n",
       "</div>"
      ],
      "text/plain": [
       "  execution_date platform user_type_name  min_price         price_quantiles  \\\n",
       "0     2021-09-24  unknown    simple_user  2800000.0  [2800000.0, 2800000.0]   \n",
       "1     2021-03-25   mobile    simple_user        0.0  [1000000.0, 3000000.0]   \n",
       "2     2021-04-02  desktop          profi        0.0       [4000.0, 56000.0]   \n",
       "3     2021-05-06      ios          profi        0.0       [3000.0, 20000.0]   \n",
       "4     2021-01-18  desktop    simple_user        0.0       [4750.0, 18250.0]   \n",
       "\n",
       "       price_quantiles_ex  average_price   max_price  price_quantiles25  \\\n",
       "0  [2800000.0, 2800000.0]      2800000.0   2800000.0          2800000.0   \n",
       "1        [4000000.0, 0.0]      2000000.0   4000000.0          1000000.0   \n",
       "2       [4000.0, 56000.0]       473526.0   9218195.0             4000.0   \n",
       "3       [3000.0, 20000.0]        53334.0  12000000.0             3000.0   \n",
       "4       [4250.0, 18750.0]       218020.0   5120000.0             4750.0   \n",
       "\n",
       "   price_quantiles75  \n",
       "0          2800000.0  \n",
       "1          3000000.0  \n",
       "2            56000.0  \n",
       "3            20000.0  \n",
       "4            18250.0  "
      ]
     },
     "execution_count": 27,
     "metadata": {},
     "output_type": "execute_result"
    }
   ],
   "source": [
    "# array into columns\n",
    "df_expanded = df1['price_quantiles'].apply(pd.Series)\n",
    "df_expanded.columns= ['price_quantiles25','price_quantiles75']\n",
    "\n",
    "# Объедините новые колонки с исходным DataFrame\n",
    "df1 = pd.concat([df1, df_expanded], axis=1)\n",
    "df1['average_price']=df1['average_price'].round()\n",
    "df1['price_quantiles25']=df1['price_quantiles25'].round()\n",
    "df1['price_quantiles75']=df1['price_quantiles75'].round()\n",
    "\n",
    "df1.head()"
   ]
  },
  {
   "cell_type": "markdown",
   "id": "6a83d356-cc02-4627-8057-6521eb857467",
   "metadata": {},
   "source": [
    "В первую очередь ознакомимся с данными, чтобы понять нет ли аномальных значений. Начнем со сводной таблицы, чтобы лучше ознакомиться со спецификой данных по группам"
   ]
  },
  {
   "cell_type": "code",
   "execution_count": 28,
   "id": "77291204-8a95-4461-a018-253550da47d9",
   "metadata": {},
   "outputs": [
    {
     "data": {
      "text/html": [
       "<div>\n",
       "<style scoped>\n",
       "    .dataframe tbody tr th:only-of-type {\n",
       "        vertical-align: middle;\n",
       "    }\n",
       "\n",
       "    .dataframe tbody tr th {\n",
       "        vertical-align: top;\n",
       "    }\n",
       "\n",
       "    .dataframe thead tr th {\n",
       "        text-align: left;\n",
       "    }\n",
       "</style>\n",
       "<table border=\"1\" class=\"dataframe\">\n",
       "  <thead>\n",
       "    <tr>\n",
       "      <th></th>\n",
       "      <th>user_type_name</th>\n",
       "      <th colspan=\"3\" halign=\"left\">average_price</th>\n",
       "      <th colspan=\"2\" halign=\"left\">price_quantiles25</th>\n",
       "      <th colspan=\"3\" halign=\"left\">price_quantiles75</th>\n",
       "    </tr>\n",
       "    <tr>\n",
       "      <th></th>\n",
       "      <th></th>\n",
       "      <th>mean</th>\n",
       "      <th>min</th>\n",
       "      <th>max</th>\n",
       "      <th>mean</th>\n",
       "      <th>min</th>\n",
       "      <th>mean</th>\n",
       "      <th>min</th>\n",
       "      <th>max</th>\n",
       "    </tr>\n",
       "  </thead>\n",
       "  <tbody>\n",
       "    <tr>\n",
       "      <th>0</th>\n",
       "      <td>profi</td>\n",
       "      <td>1.496257e+05</td>\n",
       "      <td>1962.0</td>\n",
       "      <td>3224288.0</td>\n",
       "      <td>10320.228553</td>\n",
       "      <td>0.0</td>\n",
       "      <td>6.556219e+04</td>\n",
       "      <td>1000.0</td>\n",
       "      <td>3267500.0</td>\n",
       "    </tr>\n",
       "    <tr>\n",
       "      <th>1</th>\n",
       "      <td>simple_user</td>\n",
       "      <td>1.083054e+06</td>\n",
       "      <td>0.0</td>\n",
       "      <td>5100000.0</td>\n",
       "      <td>231517.181695</td>\n",
       "      <td>0.0</td>\n",
       "      <td>1.279625e+06</td>\n",
       "      <td>0.0</td>\n",
       "      <td>5100000.0</td>\n",
       "    </tr>\n",
       "  </tbody>\n",
       "</table>\n",
       "</div>"
      ],
      "text/plain": [
       "  user_type_name average_price                    price_quantiles25       \\\n",
       "                          mean     min        max              mean  min   \n",
       "0          profi  1.496257e+05  1962.0  3224288.0      10320.228553  0.0   \n",
       "1    simple_user  1.083054e+06     0.0  5100000.0     231517.181695  0.0   \n",
       "\n",
       "  price_quantiles75                     \n",
       "               mean     min        max  \n",
       "0      6.556219e+04  1000.0  3267500.0  \n",
       "1      1.279625e+06     0.0  5100000.0  "
      ]
     },
     "execution_count": 28,
     "metadata": {},
     "output_type": "execute_result"
    }
   ],
   "source": [
    "df1.groupby('user_type_name').agg({\n",
    "    'average_price': ['mean', 'min', 'max'],\n",
    "    'price_quantiles25': ['mean', 'min'],\n",
    "    'price_quantiles75': ['mean', 'min', 'max']\n",
    "}).reset_index()"
   ]
  },
  {
   "cell_type": "code",
   "execution_count": 29,
   "id": "3d4e233c-4f9e-4269-afde-e0e7fecdd209",
   "metadata": {},
   "outputs": [
    {
     "name": "stdout",
     "output_type": "stream",
     "text": [
      "48 1475 3.2542372881355934\n"
     ]
    }
   ],
   "source": [
    "x1 = df1.query(\"user_type_name=='simple_user' and average_price==0\" ).shape[0]\n",
    "xn = df1.query(\"user_type_name=='simple_user'\" ).shape[0]\n",
    "print (x1, xn, x1/xn*100)"
   ]
  },
  {
   "cell_type": "markdown",
   "id": "cc81713c-1e35-413d-abf5-eca3c281f95e",
   "metadata": {},
   "source": [
    "Исключим данные с average_price=0 для группы пользователей user_type_name=='simple_user'. Нулевая цена скорее всего являлась ошибкой ввода пользователей или недобросовестными объявлениями о продаже.\n",
    "\n",
    "Исключение кейсов с average_price=0 на 3% сократит долю кейсов в группе simple_user. Однако эту потерю данных можно считать несущественной, в то время как качество данных улучшится"
   ]
  },
  {
   "cell_type": "code",
   "execution_count": 30,
   "id": "d2c094da-3dfc-43d7-89b4-5d5caa03cdb4",
   "metadata": {},
   "outputs": [
    {
     "data": {
      "text/html": [
       "<div>\n",
       "<style scoped>\n",
       "    .dataframe tbody tr th:only-of-type {\n",
       "        vertical-align: middle;\n",
       "    }\n",
       "\n",
       "    .dataframe tbody tr th {\n",
       "        vertical-align: top;\n",
       "    }\n",
       "\n",
       "    .dataframe thead tr th {\n",
       "        text-align: left;\n",
       "    }\n",
       "</style>\n",
       "<table border=\"1\" class=\"dataframe\">\n",
       "  <thead>\n",
       "    <tr>\n",
       "      <th></th>\n",
       "      <th>user_type_name</th>\n",
       "      <th colspan=\"3\" halign=\"left\">average_price</th>\n",
       "      <th colspan=\"2\" halign=\"left\">price_quantiles25</th>\n",
       "      <th colspan=\"3\" halign=\"left\">price_quantiles75</th>\n",
       "    </tr>\n",
       "    <tr>\n",
       "      <th></th>\n",
       "      <th></th>\n",
       "      <th>mean</th>\n",
       "      <th>min</th>\n",
       "      <th>max</th>\n",
       "      <th>mean</th>\n",
       "      <th>min</th>\n",
       "      <th>mean</th>\n",
       "      <th>min</th>\n",
       "      <th>max</th>\n",
       "    </tr>\n",
       "  </thead>\n",
       "  <tbody>\n",
       "    <tr>\n",
       "      <th>0</th>\n",
       "      <td>profi</td>\n",
       "      <td>1.496257e+05</td>\n",
       "      <td>1962.0</td>\n",
       "      <td>3224288.0</td>\n",
       "      <td>10320.228553</td>\n",
       "      <td>0.0</td>\n",
       "      <td>6.556219e+04</td>\n",
       "      <td>1000.0</td>\n",
       "      <td>3267500.0</td>\n",
       "    </tr>\n",
       "    <tr>\n",
       "      <th>1</th>\n",
       "      <td>simple_user</td>\n",
       "      <td>1.119485e+06</td>\n",
       "      <td>7.0</td>\n",
       "      <td>5100000.0</td>\n",
       "      <td>239304.725298</td>\n",
       "      <td>0.0</td>\n",
       "      <td>1.322668e+06</td>\n",
       "      <td>10.0</td>\n",
       "      <td>5100000.0</td>\n",
       "    </tr>\n",
       "  </tbody>\n",
       "</table>\n",
       "</div>"
      ],
      "text/plain": [
       "  user_type_name average_price                    price_quantiles25       \\\n",
       "                          mean     min        max              mean  min   \n",
       "0          profi  1.496257e+05  1962.0  3224288.0      10320.228553  0.0   \n",
       "1    simple_user  1.119485e+06     7.0  5100000.0     239304.725298  0.0   \n",
       "\n",
       "  price_quantiles75                     \n",
       "               mean     min        max  \n",
       "0      6.556219e+04  1000.0  3267500.0  \n",
       "1      1.322668e+06    10.0  5100000.0  "
      ]
     },
     "execution_count": 30,
     "metadata": {},
     "output_type": "execute_result"
    }
   ],
   "source": [
    "df1 = df1.query(\"(user_type_name=='simple_user' and average_price>0) or (user_type_name=='profi')\")\n",
    "\n",
    "df1.groupby('user_type_name').agg({\n",
    "    'average_price': ['mean', 'min', 'max'],\n",
    "    'price_quantiles25': ['mean', 'min'],\n",
    "    'price_quantiles75': ['mean', 'min', 'max']\n",
    "}).reset_index()"
   ]
  },
  {
   "cell_type": "markdown",
   "id": "eeb4bcb8-be3d-4236-990e-6cc69bb1d6aa",
   "metadata": {},
   "source": [
    "Исследуем распределение метрика \"Средняя стоимость автомобиля\" с помощью гистограммы:"
   ]
  },
  {
   "cell_type": "code",
   "execution_count": 31,
   "id": "d427ee57-0268-4ab6-82ec-1a267f8f714f",
   "metadata": {},
   "outputs": [
    {
     "name": "stderr",
     "output_type": "stream",
     "text": [
      "/opt/conda/lib/python3.8/site-packages/seaborn/distributions.py:2619: FutureWarning: `distplot` is a deprecated function and will be removed in a future version. Please adapt your code to use either `displot` (a figure-level function with similar flexibility) or `histplot` (an axes-level function for histograms).\n",
      "  warnings.warn(msg, FutureWarning)\n",
      "/opt/conda/lib/python3.8/site-packages/seaborn/distributions.py:2619: FutureWarning: `distplot` is a deprecated function and will be removed in a future version. Please adapt your code to use either `displot` (a figure-level function with similar flexibility) or `histplot` (an axes-level function for histograms).\n",
      "  warnings.warn(msg, FutureWarning)\n"
     ]
    },
    {
     "data": {
      "image/png": "[encoded data removed]",
      "text/plain": [
       "<Figure size 432x288 with 1 Axes>"
      ]
     },
     "metadata": {
      "needs_background": "light"
     },
     "output_type": "display_data"
    }
   ],
   "source": [
    "sns.distplot(df1.query(\"user_type_name=='simple_user'\").average_price.dropna(), label='simple_user')\n",
    "sns.distplot(df1.query(\"user_type_name=='profi'\").average_price.dropna(), label='profi')\n",
    "plt.legend()\n",
    "plt.show()"
   ]
  },
  {
   "cell_type": "markdown",
   "id": "81642e28-6a89-4907-9b49-b354347b1fd8",
   "metadata": {},
   "source": [
    "Из графика распределения можно увидеть, что:\n",
    "\n",
    "- средняя цена в группе profi ниже, чем в группе simple_user\n",
    "- дисперсия цены в группе simple_user выше, чем в группе profi\n",
    "- метрика \"Средняя стоимость автомобиля\", как многие экономические и финансовые данные, имеет логнормальное распределение с перекосом влево. Такое распределение достаточно неудобно для проверки стат гипотез.\n",
    "\n",
    "Преобразуем метрику в натуральный логарифм \"Средней стоимости автомаобиля\". Это позволит нам использовать статистические тесты для проверки гипотезы о том, что действительно ли средняя цена в группе profi ниже, чем в группе simple_user с точки зрения статистики\n"
   ]
  },
  {
   "cell_type": "code",
   "execution_count": 32,
   "id": "27308699-b95b-4443-9c2e-87f5355e7c9b",
   "metadata": {},
   "outputs": [
    {
     "name": "stderr",
     "output_type": "stream",
     "text": [
      "/opt/conda/lib/python3.8/site-packages/seaborn/distributions.py:2619: FutureWarning: `distplot` is a deprecated function and will be removed in a future version. Please adapt your code to use either `displot` (a figure-level function with similar flexibility) or `histplot` (an axes-level function for histograms).\n",
      "  warnings.warn(msg, FutureWarning)\n",
      "/opt/conda/lib/python3.8/site-packages/seaborn/distributions.py:2619: FutureWarning: `distplot` is a deprecated function and will be removed in a future version. Please adapt your code to use either `displot` (a figure-level function with similar flexibility) or `histplot` (an axes-level function for histograms).\n",
      "  warnings.warn(msg, FutureWarning)\n"
     ]
    },
    {
     "data": {
      "image/png": "[encoded data removed]",
      "text/plain": [
       "<Figure size 432x288 with 1 Axes>"
      ]
     },
     "metadata": {
      "needs_background": "light"
     },
     "output_type": "display_data"
    }
   ],
   "source": [
    "df1['average_price_log'] = np.log(df1['average_price'])\n",
    "sns.distplot(df1.query(\"user_type_name=='simple_user'\").average_price_log.dropna(), label='simple_user')\n",
    "sns.distplot(df1.query(\"user_type_name=='profi'\").average_price_log.dropna(), label='profi')\n",
    "plt.legend()\n",
    "plt.show()"
   ]
  },
  {
   "cell_type": "markdown",
   "id": "400e2bc2-6ef5-48ad-8e3d-0eeb3b8a7e28",
   "metadata": {},
   "source": [
    "На новой гистограмме распределений мы можем наблюдать, что логарифмирование помогло нам получить данные нормального распредления.\n",
    "В данном случае мы пренебрежем выбросами, которые наблюдаются слева, т.к. информация о слишком низких ценах также существенна для нас. "
   ]
  },
  {
   "cell_type": "markdown",
   "id": "4d5c55f3-0b5a-4bfc-b749-ba1facf807e6",
   "metadata": {},
   "source": [
    "### Правда ли, что цены профессионалов больше, чем цены простых пользователей? <a class=\"anchor\" id=\"task1_answer\"></a>"
   ]
  },
  {
   "cell_type": "markdown",
   "id": "00651287-f77f-4010-82bb-d4d4aeb76070",
   "metadata": {},
   "source": [
    "Менеджеры хотят понять \n",
    "Для проверки гипотезы используем статистический критерий t-test. Сформулируем статистические гипотезы:\n",
    "- H0: средняя цена продажи авто не различается по типу пользователя\n",
    "- H1: средняя цена продажи авто различается по типу пользователя"
   ]
  },
  {
   "cell_type": "code",
   "execution_count": 33,
   "id": "f0ad1413-e8f0-4b36-a663-3b24c9e37af5",
   "metadata": {},
   "outputs": [
    {
     "name": "stdout",
     "output_type": "stream",
     "text": [
      "Отвергаем нулевую гипотезу: средняя цена продажи авто различается по типу пользователя\n"
     ]
    }
   ],
   "source": [
    "# задаем уровень значимости\n",
    "alpha = 0.05\n",
    "\n",
    "#проводим тест\n",
    "simple_u = df1[df1['user_type_name'] == 'simple_user']['average_price_log']\n",
    "profi_u = df1[df1['user_type_name'] == 'profi']['average_price_log']\n",
    "\n",
    "p_value=stats.ttest_ind( simple_u, profi_u, equal_var=True)\n",
    "\n",
    "# анализируем результат\n",
    "if float(p_value[1]) < alpha:\n",
    "    print('Отвергаем нулевую гипотезу: средняя цена продажи авто различается по типу пользователя')\n",
    "else:\n",
    "    print('Не отвергаем нулевую гипотезу: средняя цена продажи авто не различается по типу пользователя')"
   ]
  },
  {
   "cell_type": "markdown",
   "id": "89d97dcc-0d63-41c7-b433-4375806ab636",
   "metadata": {},
   "source": [
    "Какие именно различия наблюдаются между группами:"
   ]
  },
  {
   "cell_type": "code",
   "execution_count": 34,
   "id": "5b588509-4c43-45d1-bc88-d382e7cd8a24",
   "metadata": {},
   "outputs": [
    {
     "name": "stdout",
     "output_type": "stream",
     "text": [
      "Вывод: У простых пользователей средняя цена продажи авто выше, чем у профи на 969859.0\n",
      "\n"
     ]
    }
   ],
   "source": [
    "print(  'Вывод: У простых пользователей средняя цена продажи авто выше, чем у профи на '\n",
    "      + str(df1[df1['user_type_name'] == 'simple_user']['average_price'].mean().round() -  df1[df1['user_type_name'] == 'profi']['average_price'].mean().round()) + '\\n',  \n",
    "     )"
   ]
  },
  {
   "cell_type": "markdown",
   "id": "797feb17-81b0-4ef7-92f4-976d90fa9602",
   "metadata": {
    "tags": []
   },
   "source": [
    "# Задание 2 <a class=\"anchor\" id=\"task2\"></a>\n",
    "Менеджеры хотят понять, насколько быстро продаются в среднем наши объявления. Найдите средний срок продажи (время ухода в архив для объявления). Для этого нужно найти разницу между первым днем появления в live и последним днем (по полю execution_date).\n",
    "\n",
    "Также менеджеры хотят найти самые быстро продаваемые и самые медленно продаваемые автомобили, чтобы попробовать рассылать два разных типа пушей первым и вторым. Но им необходимо понимать, много ли объявлений и пользователей можно охватить такой рассылкой. Для менеджеров, если потенциальные рассылки захватывают больше 5% базы и количества листеров, “игра стоит свеч” — значит, мы будем делать рассылки.\n",
    "\n",
    "Вопросы:\n",
    "- Определить топ-5 марок, продающихся быстрее всего, и топ-5 марок, продающихся медленнее всего. \n",
    "- Какую долю объявлений от общей базы составляют эти группы (суммарно ТОП-5 марок, продающихся быстрее всего и ТОП-5 марок, продающихся медленнее всего).\n",
    "- Какую долю пользователей от общего количества листеров составляют эти группы (суммарно ТОП-5 марок, продающихся быстрее всего и ТОП-5 марок, продающихся медленнее всего)."
   ]
  },
  {
   "cell_type": "code",
   "execution_count": 35,
   "id": "62a52590-b279-43a0-89e4-0e73cc23a973",
   "metadata": {},
   "outputs": [
    {
     "data": {
      "text/html": [
       "<div>\n",
       "<style scoped>\n",
       "    .dataframe tbody tr th:only-of-type {\n",
       "        vertical-align: middle;\n",
       "    }\n",
       "\n",
       "    .dataframe tbody tr th {\n",
       "        vertical-align: top;\n",
       "    }\n",
       "\n",
       "    .dataframe thead th {\n",
       "        text-align: right;\n",
       "    }\n",
       "</style>\n",
       "<table border=\"1\" class=\"dataframe\">\n",
       "  <thead>\n",
       "    <tr style=\"text-align: right;\">\n",
       "      <th></th>\n",
       "      <th>advert_id</th>\n",
       "      <th>user_id</th>\n",
       "      <th>mark</th>\n",
       "      <th>model</th>\n",
       "      <th>min_date</th>\n",
       "      <th>max_date</th>\n",
       "      <th>min_price</th>\n",
       "      <th>price_quantiles</th>\n",
       "      <th>price_quantiles_ex</th>\n",
       "      <th>average_price</th>\n",
       "      <th>max_price</th>\n",
       "      <th>days_for_sale</th>\n",
       "    </tr>\n",
       "  </thead>\n",
       "  <tbody>\n",
       "    <tr>\n",
       "      <th>0</th>\n",
       "      <td>262535435</td>\n",
       "      <td>123696103</td>\n",
       "      <td>Toyota</td>\n",
       "      <td>Estima</td>\n",
       "      <td>2021-05-17</td>\n",
       "      <td>2021-11-05</td>\n",
       "      <td>1600000.0</td>\n",
       "      <td>[1600000.0]</td>\n",
       "      <td>[1600000.0]</td>\n",
       "      <td>1650000.0</td>\n",
       "      <td>1800000.0</td>\n",
       "      <td>172</td>\n",
       "    </tr>\n",
       "    <tr>\n",
       "      <th>1</th>\n",
       "      <td>270205085</td>\n",
       "      <td>146140025</td>\n",
       "      <td>Toyota</td>\n",
       "      <td>RAV4</td>\n",
       "      <td>2021-11-07</td>\n",
       "      <td>2021-11-11</td>\n",
       "      <td>2730000.0</td>\n",
       "      <td>[2730000.0]</td>\n",
       "      <td>[2730000.0]</td>\n",
       "      <td>2730000.0</td>\n",
       "      <td>2730000.0</td>\n",
       "      <td>4</td>\n",
       "    </tr>\n",
       "    <tr>\n",
       "      <th>2</th>\n",
       "      <td>268819749</td>\n",
       "      <td>145726328</td>\n",
       "      <td>None</td>\n",
       "      <td>None</td>\n",
       "      <td>2021-10-04</td>\n",
       "      <td>2021-11-09</td>\n",
       "      <td>2000.0</td>\n",
       "      <td>[2000.0]</td>\n",
       "      <td>[2000.0]</td>\n",
       "      <td>2000.0</td>\n",
       "      <td>2000.0</td>\n",
       "      <td>36</td>\n",
       "    </tr>\n",
       "    <tr>\n",
       "      <th>3</th>\n",
       "      <td>168398307</td>\n",
       "      <td>123591452</td>\n",
       "      <td>None</td>\n",
       "      <td>None</td>\n",
       "      <td>2020-11-12</td>\n",
       "      <td>2021-11-05</td>\n",
       "      <td>1000.0</td>\n",
       "      <td>[1000.0]</td>\n",
       "      <td>[1000.0]</td>\n",
       "      <td>1000.0</td>\n",
       "      <td>1000.0</td>\n",
       "      <td>358</td>\n",
       "    </tr>\n",
       "    <tr>\n",
       "      <th>4</th>\n",
       "      <td>236503610</td>\n",
       "      <td>123477337</td>\n",
       "      <td>None</td>\n",
       "      <td>None</td>\n",
       "      <td>2020-11-14</td>\n",
       "      <td>2021-11-08</td>\n",
       "      <td>3400.0</td>\n",
       "      <td>[3400.0]</td>\n",
       "      <td>[3400.0]</td>\n",
       "      <td>3400.0</td>\n",
       "      <td>3400.0</td>\n",
       "      <td>359</td>\n",
       "    </tr>\n",
       "  </tbody>\n",
       "</table>\n",
       "</div>"
      ],
      "text/plain": [
       "   advert_id    user_id    mark   model    min_date    max_date  min_price  \\\n",
       "0  262535435  123696103  Toyota  Estima  2021-05-17  2021-11-05  1600000.0   \n",
       "1  270205085  146140025  Toyota    RAV4  2021-11-07  2021-11-11  2730000.0   \n",
       "2  268819749  145726328    None    None  2021-10-04  2021-11-09     2000.0   \n",
       "3  168398307  123591452    None    None  2020-11-12  2021-11-05     1000.0   \n",
       "4  236503610  123477337    None    None  2020-11-14  2021-11-08     3400.0   \n",
       "\n",
       "  price_quantiles price_quantiles_ex  average_price  max_price  days_for_sale  \n",
       "0     [1600000.0]        [1600000.0]      1650000.0  1800000.0            172  \n",
       "1     [2730000.0]        [2730000.0]      2730000.0  2730000.0              4  \n",
       "2        [2000.0]           [2000.0]         2000.0     2000.0             36  \n",
       "3        [1000.0]           [1000.0]         1000.0     1000.0            358  \n",
       "4        [3400.0]           [3400.0]         3400.0     3400.0            359  "
      ]
     },
     "execution_count": 35,
     "metadata": {},
     "output_type": "execute_result"
    }
   ],
   "source": [
    "##ПРоверяем МП2\n",
    "result = client.execute(f\"\"\"\n",
    "SELECT\n",
    "    advert_id, user_id, mark, model, \n",
    "\tmin(min_date) as min_date, \n",
    "    max(max_date) as max_date, \n",
    "    min(min_price) as min_price,\n",
    "    quantilesMerge(0.5)(price_quantiles) as price_quantiles,\n",
    "    quantilesExactExclusiveMerge(0.5)(price_quantiles_ex) as price_quantiles_ex,\n",
    "    avgOrNullMerge(average_price) as average_price,\n",
    "    max(max_price) as max_price \n",
    "FROM hardda_student_data.prj_main_a_papishvili_agg_view_2\n",
    "GROUP BY advert_id, user_id, mark, model\n",
    "\"\"\")\n",
    "\n",
    "df2 = pd.DataFrame(result, columns=['advert_id', 'user_id', 'mark', 'model', 'min_date','max_date','min_price', 'price_quantiles',  'price_quantiles_ex', 'average_price', 'max_price'])\n",
    "df2 = df2.query(\"average_price>0\") # Исключаем объявления с 0 ценой, т.к. предполагаем, что это ошибка ввода\n",
    "df2['days_for_sale'] = (df2['max_date'] - df2['min_date']).dt.days\n",
    "df2.head()"
   ]
  },
  {
   "cell_type": "markdown",
   "id": "5b98a4bc-4002-4d82-a621-5ea630794f5e",
   "metadata": {},
   "source": [
    "### Топ-5 марок, продающихся быстрее всего, и топ-5 марок, продающихся медленнее всего. <a class=\"anchor\" id=\"task2_top5\"></a>"
   ]
  },
  {
   "cell_type": "code",
   "execution_count": 36,
   "id": "19d1af2e-4cda-4887-b36d-7a10e53cbb68",
   "metadata": {},
   "outputs": [],
   "source": [
    "df2_marks=df2.groupby('mark', as_index=False)\\\n",
    "    .agg({'days_for_sale':'mean'})\\\n",
    "    .sort_values('days_for_sale', ascending=True).reset_index()"
   ]
  },
  {
   "cell_type": "code",
   "execution_count": 37,
   "id": "67a1ff2c-1ff9-48d5-9c4c-c2faf9807964",
   "metadata": {},
   "outputs": [
    {
     "data": {
      "image/png": "[encoded data removed]",
      "text/plain": [
       "<Figure size 576x432 with 1 Axes>"
      ]
     },
     "metadata": {
      "needs_background": "light"
     },
     "output_type": "display_data"
    }
   ],
   "source": [
    "# топ-5 марок, продающихся быстрее всего\n",
    "plt.figure(figsize=(8, 6))\n",
    "sns.barplot(data=df2_marks.head(5), x='mark', y='days_for_sale')\n",
    "plt.show()"
   ]
  },
  {
   "cell_type": "code",
   "execution_count": 38,
   "id": "50da0f2c-ea34-4d29-bcf9-ff6b781e624e",
   "metadata": {},
   "outputs": [],
   "source": [
    "#Доля продаж топ-5 марок, продающихся быстрее всего"
   ]
  },
  {
   "cell_type": "code",
   "execution_count": 39,
   "id": "649a916b-cb29-4400-bcf3-54b1840aa550",
   "metadata": {},
   "outputs": [
    {
     "data": {
      "image/png": "[encoded data removed]",
      "text/plain": [
       "<Figure size 576x432 with 1 Axes>"
      ]
     },
     "metadata": {
      "needs_background": "light"
     },
     "output_type": "display_data"
    }
   ],
   "source": [
    "# топ-5 марок, продающихся медленнее всего\n",
    "plt.figure(figsize=(8, 6))\n",
    "sns.barplot(data=df2_marks.tail(5), x='mark', y='days_for_sale')\n",
    "plt.show()"
   ]
  },
  {
   "cell_type": "markdown",
   "id": "aae7b280-bcf8-4b31-84f2-a7151c93cf4f",
   "metadata": {},
   "source": [
    "#### Какую долю объявлений от общей базы составляют эти группы (суммарно ТОП-5 марок, продающихся быстрее всего и ТОП-5 марок, продающихся медленнее всего).  <a class=\"anchor\" id=\"task2_top5_p1\"></a>"
   ]
  },
  {
   "cell_type": "code",
   "execution_count": 40,
   "id": "59659001-410e-4058-bc76-114d89bea4f7",
   "metadata": {},
   "outputs": [],
   "source": [
    "top5=df2_marks.iloc[0:5,1].tolist()\n",
    "bot5=df2_marks.iloc[-5:,1].tolist()\n",
    "df2['top5_flag']=df2['mark'].apply(lambda x: 1 if x in top5 else 0)\n",
    "df2['bot5_flag']=df2['mark'].apply(lambda x: 1 if x in bot5 else 0)\n",
    "\n",
    "df2['flag_mark']=df2['bot5_flag']+df2['top5_flag']"
   ]
  },
  {
   "cell_type": "code",
   "execution_count": 41,
   "id": "18deeb84-8c42-4767-981a-fd8ebda364f4",
   "metadata": {},
   "outputs": [
    {
     "name": "stdout",
     "output_type": "stream",
     "text": [
      "Вывод: 0.03 %\n"
     ]
    }
   ],
   "source": [
    "df2_marks=df2.groupby(['advert_id', 'flag_mark'], as_index=False).agg({'user_id':'count'})\n",
    "print(\"Вывод:\" ,(df2_marks['flag_mark'].mean()*100).round(2), \"%\")"
   ]
  },
  {
   "cell_type": "markdown",
   "id": "608039b6-1c23-464b-9cec-ff3c0a80b616",
   "metadata": {},
   "source": [
    "#### Какую долю пользователей от общего количества листеров составляют эти группы (суммарно ТОП-5 марок, продающихся быстрее всего и ТОП-5 марок, продающихся медленнее всего).\n",
    " <a class=\"anchor\" id=\"task2_top5_p2\"></a>"
   ]
  },
  {
   "cell_type": "code",
   "execution_count": 42,
   "id": "183274c8-dc20-4204-bb06-e8dccccf9e88",
   "metadata": {},
   "outputs": [
    {
     "name": "stdout",
     "output_type": "stream",
     "text": [
      "Вывод: 0.18 %\n"
     ]
    }
   ],
   "source": [
    "df2_marks=df2.groupby(['user_id', 'flag_mark'], as_index=False).agg({'user_id':'count'})\n",
    "print(\"Вывод:\" ,(df2_marks['flag_mark'].mean()*100).round(2), \"%\")"
   ]
  },
  {
   "cell_type": "markdown",
   "id": "9e94f700-2fc8-4dd5-ab25-3de7677e89cd",
   "metadata": {},
   "source": [
    "# Задание 3 <a class=\"anchor\" id=\"task3\"></a>\n",
    "Менеджеров интересует, увеличилось ли время продажи объявлений в нашем продукте за полгода. Если время продажи растет — это плохо для команды листеров.\n",
    "\n",
    "- Как изменилось время ухода объявлений в архив за полгода (= средний срок продажи )?\n",
    "- На сколько дней изменилось среднее время ухода в архив в июньской когорте относительно декабрьской когорты?\n",
    "- По каким маркам время ухода в архив выросло больше всего между когортами?\n",
    "- У каких пользователей изменение времени продажи выше?"
   ]
  },
  {
   "cell_type": "code",
   "execution_count": 43,
   "id": "8db1590c-9c33-47b7-8ec4-49a59795c939",
   "metadata": {},
   "outputs": [
    {
     "data": {
      "text/html": [
       "<div>\n",
       "<style scoped>\n",
       "    .dataframe tbody tr th:only-of-type {\n",
       "        vertical-align: middle;\n",
       "    }\n",
       "\n",
       "    .dataframe tbody tr th {\n",
       "        vertical-align: top;\n",
       "    }\n",
       "\n",
       "    .dataframe thead th {\n",
       "        text-align: right;\n",
       "    }\n",
       "</style>\n",
       "<table border=\"1\" class=\"dataframe\">\n",
       "  <thead>\n",
       "    <tr style=\"text-align: right;\">\n",
       "      <th></th>\n",
       "      <th>advert_id</th>\n",
       "      <th>user_type_name</th>\n",
       "      <th>mark</th>\n",
       "      <th>min_date</th>\n",
       "      <th>max_date</th>\n",
       "      <th>min_price</th>\n",
       "      <th>price_quantiles</th>\n",
       "      <th>price_quantiles_ex</th>\n",
       "      <th>average_price</th>\n",
       "      <th>max_price</th>\n",
       "      <th>days_for_sale</th>\n",
       "      <th>cogort</th>\n",
       "    </tr>\n",
       "  </thead>\n",
       "  <tbody>\n",
       "    <tr>\n",
       "      <th>0</th>\n",
       "      <td>263812074</td>\n",
       "      <td>profi</td>\n",
       "      <td>None</td>\n",
       "      <td>2021-06-15</td>\n",
       "      <td>2021-11-07</td>\n",
       "      <td>6000.0</td>\n",
       "      <td>[6000.0]</td>\n",
       "      <td>[6000.0]</td>\n",
       "      <td>6000.000000</td>\n",
       "      <td>6000.0</td>\n",
       "      <td>145</td>\n",
       "      <td>group2_jun</td>\n",
       "    </tr>\n",
       "    <tr>\n",
       "      <th>1</th>\n",
       "      <td>255503412</td>\n",
       "      <td>profi</td>\n",
       "      <td>None</td>\n",
       "      <td>2020-12-27</td>\n",
       "      <td>2021-11-08</td>\n",
       "      <td>3000.0</td>\n",
       "      <td>[3000.0]</td>\n",
       "      <td>[3000.0]</td>\n",
       "      <td>3000.000000</td>\n",
       "      <td>3000.0</td>\n",
       "      <td>316</td>\n",
       "      <td>group1_dec</td>\n",
       "    </tr>\n",
       "    <tr>\n",
       "      <th>2</th>\n",
       "      <td>264000051</td>\n",
       "      <td>simple_user</td>\n",
       "      <td>None</td>\n",
       "      <td>2021-06-19</td>\n",
       "      <td>2021-10-22</td>\n",
       "      <td>800000.0</td>\n",
       "      <td>[839900.0]</td>\n",
       "      <td>[839900.0]</td>\n",
       "      <td>821530.769231</td>\n",
       "      <td>840000.0</td>\n",
       "      <td>125</td>\n",
       "      <td>group2_jun</td>\n",
       "    </tr>\n",
       "    <tr>\n",
       "      <th>3</th>\n",
       "      <td>255521566</td>\n",
       "      <td>profi</td>\n",
       "      <td>None</td>\n",
       "      <td>2020-12-27</td>\n",
       "      <td>2021-11-07</td>\n",
       "      <td>2000.0</td>\n",
       "      <td>[2000.0]</td>\n",
       "      <td>[2000.0]</td>\n",
       "      <td>2000.000000</td>\n",
       "      <td>2000.0</td>\n",
       "      <td>315</td>\n",
       "      <td>group1_dec</td>\n",
       "    </tr>\n",
       "    <tr>\n",
       "      <th>4</th>\n",
       "      <td>254495033</td>\n",
       "      <td>profi</td>\n",
       "      <td>None</td>\n",
       "      <td>2020-12-06</td>\n",
       "      <td>2021-11-07</td>\n",
       "      <td>1000.0</td>\n",
       "      <td>[1000.0]</td>\n",
       "      <td>[1000.0]</td>\n",
       "      <td>1000.000000</td>\n",
       "      <td>1000.0</td>\n",
       "      <td>336</td>\n",
       "      <td>group1_dec</td>\n",
       "    </tr>\n",
       "  </tbody>\n",
       "</table>\n",
       "</div>"
      ],
      "text/plain": [
       "   advert_id user_type_name  mark    min_date    max_date  min_price  \\\n",
       "0  263812074          profi  None  2021-06-15  2021-11-07     6000.0   \n",
       "1  255503412          profi  None  2020-12-27  2021-11-08     3000.0   \n",
       "2  264000051    simple_user  None  2021-06-19  2021-10-22   800000.0   \n",
       "3  255521566          profi  None  2020-12-27  2021-11-07     2000.0   \n",
       "4  254495033          profi  None  2020-12-06  2021-11-07     1000.0   \n",
       "\n",
       "  price_quantiles price_quantiles_ex  average_price  max_price  days_for_sale  \\\n",
       "0        [6000.0]           [6000.0]    6000.000000     6000.0            145   \n",
       "1        [3000.0]           [3000.0]    3000.000000     3000.0            316   \n",
       "2      [839900.0]         [839900.0]  821530.769231   840000.0            125   \n",
       "3        [2000.0]           [2000.0]    2000.000000     2000.0            315   \n",
       "4        [1000.0]           [1000.0]    1000.000000     1000.0            336   \n",
       "\n",
       "       cogort  \n",
       "0  group2_jun  \n",
       "1  group1_dec  \n",
       "2  group2_jun  \n",
       "3  group1_dec  \n",
       "4  group1_dec  "
      ]
     },
     "execution_count": 43,
     "metadata": {},
     "output_type": "execute_result"
    }
   ],
   "source": [
    "##Проверяем МП3\n",
    "result = client.execute(f\"\"\"\n",
    "select * , max_date - min_date as days_for_sale,\n",
    "case when min_date BETWEEN '2020-12-01' AND '2020-12-31' then 'group1_dec'\n",
    "when  min_date  BETWEEN '2021-06-01' AND '2021-06-30' then 'group2_jun'\n",
    "else 'other' end as cogort\n",
    "\n",
    "from (\n",
    "        SELECT\n",
    "            advert_id, user_type_name, mark, \n",
    "            min(min_date) as min_date, \n",
    "            max(max_date) as max_date, \n",
    "            min(min_price) as min_price,\n",
    "            quantilesMerge(0.5)(price_quantiles) as price_quantiles,\n",
    "            quantilesExactExclusiveMerge(0.5)(price_quantiles_ex) as price_quantiles_ex,\n",
    "            avgOrNullMerge(average_price) as average_price,\n",
    "            max(max_price) as max_price \n",
    "\n",
    "        FROM hardda_student_data.prj_main_a_papishvili_agg_view_3\n",
    "        group by  advert_id, user_type_name, mark\n",
    "    ) as a\n",
    "where cogort in('group1_dec', 'group2_jun')\n",
    "\"\"\")\n",
    "\n",
    "\n",
    "df3 = pd.DataFrame(result, columns=['advert_id', 'user_type_name', 'mark', 'min_date','max_date','min_price',\n",
    "                                    'price_quantiles',  'price_quantiles_ex', 'average_price', 'max_price', \n",
    "                                    'days_for_sale', 'cogort'])\n",
    "#df3['days_for_sale'] = (df3['max_date'] - df3['min_date']).dt.days\n",
    "df3 = df3.query(\"average_price>0\") # Исключаем объявления с 0 ценой, т.к. предполагаем, что это ошибка ввода\n",
    "df3.head()"
   ]
  },
  {
   "cell_type": "markdown",
   "id": "add91185-eae6-46b8-ab5d-64eaa71cad00",
   "metadata": {},
   "source": [
    "#### Как изменилось время ухода объявлений в архив за полгода (= средний срок продажи)? <a class=\"anchor\" id=\"task3_1\"></a>"
   ]
  },
  {
   "cell_type": "code",
   "execution_count": 44,
   "id": "ea7cee44-b5be-4cfe-a728-a632ffc71234",
   "metadata": {},
   "outputs": [
    {
     "name": "stderr",
     "output_type": "stream",
     "text": [
      "/opt/conda/lib/python3.8/site-packages/seaborn/distributions.py:2619: FutureWarning: `distplot` is a deprecated function and will be removed in a future version. Please adapt your code to use either `displot` (a figure-level function with similar flexibility) or `histplot` (an axes-level function for histograms).\n",
      "  warnings.warn(msg, FutureWarning)\n",
      "/opt/conda/lib/python3.8/site-packages/seaborn/distributions.py:2619: FutureWarning: `distplot` is a deprecated function and will be removed in a future version. Please adapt your code to use either `displot` (a figure-level function with similar flexibility) or `histplot` (an axes-level function for histograms).\n",
      "  warnings.warn(msg, FutureWarning)\n"
     ]
    },
    {
     "data": {
      "image/png": "[encoded data removed]",
      "text/plain": [
       "<Figure size 432x288 with 1 Axes>"
      ]
     },
     "metadata": {
      "needs_background": "light"
     },
     "output_type": "display_data"
    }
   ],
   "source": [
    "sns.distplot(df3.query(\"cogort=='group1_dec'\").days_for_sale.dropna(), label='group1_dec')\n",
    "sns.distplot(df3.query(\"cogort=='group2_jun'\").days_for_sale.dropna(), label='group2_jun')\n",
    "plt.legend()\n",
    "plt.show()"
   ]
  },
  {
   "cell_type": "markdown",
   "id": "c9030990-5d31-4ee9-8b38-cdd635e0c135",
   "metadata": {},
   "source": [
    "График распределения дает нам основание предположить,что скорость продаж в когорте Июня выше, чем в когорте Декабря. Проверим гипотезу статистически.\n",
    "\n",
    "Исходя из графика выше, мы можем считать, что в данном случае метрика days_for_sale имеет нормальное распределение с выбросами в сторону 0. Однако для нас эта информация является важной, поэтому доп анализ для исключения выбросов проводиться не будет.\n",
    "\n",
    "Сформулируем стат гипотезы:\n",
    "- **H0**: Скорость продаж в двух когортах одинаковая\n",
    "- **H1**: Скорость продаж в двух когортах различается"
   ]
  },
  {
   "cell_type": "code",
   "execution_count": 45,
   "id": "b4808571-ce33-4cf3-804e-b6ebca6d011b",
   "metadata": {},
   "outputs": [
    {
     "name": "stdout",
     "output_type": "stream",
     "text": [
      "Отвергаем нулевую гипотезу: Скорость продаж в двух когортах различается\n"
     ]
    }
   ],
   "source": [
    "c1 = df3.query(\"cogort=='group1_dec'\")[['days_for_sale']]\n",
    "c2 = df3.query(\"cogort=='group2_jun'\")[['days_for_sale']]\n",
    "\n",
    "# задаем группы\n",
    "alpha = 0.05\n",
    "\n",
    "# проводим тест\n",
    "p_value=stats.ttest_ind( c1, c2,equal_var=True )\n",
    "\n",
    "# анализируем результат\n",
    "if float(p_value[1]) < alpha:\n",
    "    print('Отвергаем нулевую гипотезу: Скорость продаж в двух когортах различается')\n",
    "else:\n",
    "    print('Не отвергаем нулевую гипотезу: Скорость продаж в двух когортах одинаковая')"
   ]
  },
  {
   "cell_type": "markdown",
   "id": "5d93a01d-9f5a-4cdf-add3-c755e74966d8",
   "metadata": {},
   "source": [
    "#### На сколько дней изменилось среднее время ухода в архив в июньской когорте относительно декабрьской когорты <a class=\"anchor\" id=\"task3_2\"></a>"
   ]
  },
  {
   "cell_type": "code",
   "execution_count": 46,
   "id": "730c2f3c-935d-458a-8e32-3f0e584f6bb5",
   "metadata": {},
   "outputs": [
    {
     "name": "stdout",
     "output_type": "stream",
     "text": [
      "Скорость продаж в когорте июня выше скорости продаж в когорте декабря наdays_for_sale    177.0\n",
      "dtype: float64дней\n"
     ]
    }
   ],
   "source": [
    "print(\"Скорость продаж в когорте июня выше скорости продаж в когорте декабря на\" + str((c1.mean()-c2.mean()).round()) + \"дней\")"
   ]
  },
  {
   "cell_type": "markdown",
   "id": "d9b8b4dc-802f-45df-9293-82998950d0c8",
   "metadata": {},
   "source": [
    "#### По каким маркам время ухода в архив выросло больше всего между когортами? <a class=\"anchor\" id=\"task3_3\"></a>"
   ]
  },
  {
   "cell_type": "code",
   "execution_count": 47,
   "id": "a3f20107-0b83-4936-a71c-4531f7f3dc07",
   "metadata": {},
   "outputs": [
    {
     "name": "stderr",
     "output_type": "stream",
     "text": [
      "/tmp/ipykernel_707/905478945.py:8: RuntimeWarning: Precision loss occurred in moment calculation due to catastrophic cancellation. This occurs when the data are nearly identical. Results may be unreliable.\n",
      "  a = stats.ttest_ind( g1, g2, equal_var=True)\n",
      "/opt/conda/lib/python3.8/site-packages/scipy/stats/_stats_py.py:1214: RuntimeWarning: divide by zero encountered in divide\n",
      "  var *= np.divide(n, n-ddof)  # to avoid error on division by zero\n",
      "/opt/conda/lib/python3.8/site-packages/scipy/stats/_stats_py.py:1214: RuntimeWarning: invalid value encountered in scalar multiply\n",
      "  var *= np.divide(n, n-ddof)  # to avoid error on division by zero\n"
     ]
    }
   ],
   "source": [
    "marks = df3['mark'].unique().tolist()\n",
    "svod=[]\n",
    "\n",
    "for i  in range(0,len(marks)):\n",
    "    g1 = df3[(df3['mark'] == marks[i]) & (df3['cogort'] == 'group1_dec')]['days_for_sale']\n",
    "    #print(marks[i])\n",
    "    g2 = df3[(df3['mark'] == marks[i]) & (df3['cogort'] == 'group2_jun')]['days_for_sale']\n",
    "    a = stats.ttest_ind( g1, g2, equal_var=True)\n",
    "    diff = g1.mean()-g2.mean()\n",
    "    \n",
    "    #пишем в таблицу\n",
    "    #if float(a[1])<0.05:\n",
    "    row=[marks[i],  g1.mean() , g2.mean(),  diff, float(a[1])]\n",
    "    svod.append(row)"
   ]
  },
  {
   "cell_type": "code",
   "execution_count": 48,
   "id": "20534273-c55f-43e5-aa86-c38a1e00a4c5",
   "metadata": {},
   "outputs": [],
   "source": [
    "svod_marks = pd.DataFrame(svod, columns = ['mark', 'Group 1',  'Group 2', 'diff', 'test']) "
   ]
  },
  {
   "cell_type": "code",
   "execution_count": 49,
   "id": "a3642c1c-c410-45c1-96e7-3122f9525cb5",
   "metadata": {},
   "outputs": [
    {
     "data": {
      "text/plain": [
       "mark       Renault\n",
       "Group 1       34.0\n",
       "Group 2      141.0\n",
       "diff        -107.0\n",
       "test           NaN\n",
       "Name: 25, dtype: object"
      ]
     },
     "execution_count": 49,
     "metadata": {},
     "output_type": "execute_result"
    }
   ],
   "source": [
    "svod_marks.loc[svod_marks['diff'].idxmin()]"
   ]
  },
  {
   "cell_type": "markdown",
   "id": "057c927c-966a-471c-87ac-3b1931bfb596",
   "metadata": {},
   "source": [
    "#### У каких пользователей изменение времени продажи выше? <a class=\"anchor\" id=\"task3_4\"></a>"
   ]
  },
  {
   "cell_type": "code",
   "execution_count": 50,
   "id": "a57f2137-1daa-4405-882c-bd22a948783f",
   "metadata": {},
   "outputs": [],
   "source": [
    "marks = df3['user_type_name'].unique().tolist()\n",
    "svod=[]\n",
    "\n",
    "for i  in range(0,len(marks)):\n",
    "    g1 = df3[(df3['user_type_name'] == marks[i]) & (df3['cogort'] == 'group1_dec')]['days_for_sale']\n",
    "    #print(marks[i])\n",
    "    g2 = df3[(df3['user_type_name'] == marks[i]) & (df3['cogort'] == 'group2_jun')]['days_for_sale']\n",
    "    a = stats.ttest_ind( g1, g2, equal_var=True)\n",
    "    diff = g1.mean()-g2.mean()\n",
    "    \n",
    "    #пишем в таблицу\n",
    "    #if float(a[1])<0.05:\n",
    "    row=[marks[i],  g1.mean() , g2.mean(),  diff, float(a[1])]\n",
    "    svod.append(row)"
   ]
  },
  {
   "cell_type": "code",
   "execution_count": 51,
   "id": "c068eead-5c38-486e-9f9e-6e9f686ffcf2",
   "metadata": {},
   "outputs": [
    {
     "data": {
      "text/html": [
       "<div>\n",
       "<style scoped>\n",
       "    .dataframe tbody tr th:only-of-type {\n",
       "        vertical-align: middle;\n",
       "    }\n",
       "\n",
       "    .dataframe tbody tr th {\n",
       "        vertical-align: top;\n",
       "    }\n",
       "\n",
       "    .dataframe thead th {\n",
       "        text-align: right;\n",
       "    }\n",
       "</style>\n",
       "<table border=\"1\" class=\"dataframe\">\n",
       "  <thead>\n",
       "    <tr style=\"text-align: right;\">\n",
       "      <th></th>\n",
       "      <th>user_type_name</th>\n",
       "      <th>group1_dec</th>\n",
       "      <th>group2_jun</th>\n",
       "      <th>diff</th>\n",
       "      <th>test</th>\n",
       "    </tr>\n",
       "  </thead>\n",
       "  <tbody>\n",
       "    <tr>\n",
       "      <th>0</th>\n",
       "      <td>profi</td>\n",
       "      <td>320.598974</td>\n",
       "      <td>142.730831</td>\n",
       "      <td>177.868143</td>\n",
       "      <td>0.000000e+00</td>\n",
       "    </tr>\n",
       "    <tr>\n",
       "      <th>1</th>\n",
       "      <td>simple_user</td>\n",
       "      <td>283.121107</td>\n",
       "      <td>124.947581</td>\n",
       "      <td>158.173527</td>\n",
       "      <td>1.684460e-156</td>\n",
       "    </tr>\n",
       "    <tr>\n",
       "      <th>2</th>\n",
       "      <td>None</td>\n",
       "      <td>NaN</td>\n",
       "      <td>NaN</td>\n",
       "      <td>NaN</td>\n",
       "      <td>NaN</td>\n",
       "    </tr>\n",
       "    <tr>\n",
       "      <th>3</th>\n",
       "      <td>avtosalon</td>\n",
       "      <td>NaN</td>\n",
       "      <td>148.000000</td>\n",
       "      <td>NaN</td>\n",
       "      <td>NaN</td>\n",
       "    </tr>\n",
       "  </tbody>\n",
       "</table>\n",
       "</div>"
      ],
      "text/plain": [
       "  user_type_name  group1_dec  group2_jun        diff           test\n",
       "0          profi  320.598974  142.730831  177.868143   0.000000e+00\n",
       "1    simple_user  283.121107  124.947581  158.173527  1.684460e-156\n",
       "2           None         NaN         NaN         NaN            NaN\n",
       "3      avtosalon         NaN  148.000000         NaN            NaN"
      ]
     },
     "execution_count": 51,
     "metadata": {},
     "output_type": "execute_result"
    }
   ],
   "source": [
    "svod_marks = pd.DataFrame(svod, columns = ['user_type_name', 'group1_dec',  'group2_jun', 'diff', 'test']) \n",
    "svod_marks"
   ]
  },
  {
   "cell_type": "markdown",
   "id": "99111f3f-7c6e-4c58-8ca9-d1d76d6f1409",
   "metadata": {},
   "source": [
    "Вывод: Среди профи наблюдается самое высокое изменение продаж."
   ]
  },
  {
   "cell_type": "code",
   "execution_count": 52,
   "id": "a5cd8755-6c46-4503-98e5-97acd856003d",
   "metadata": {},
   "outputs": [],
   "source": [
    "############ finale\n",
    "spark.stop()\n",
    "client.disconnect_connection()"
   ]
  },
  {
   "cell_type": "code",
   "execution_count": null,
   "id": "88f83406-7b89-4fc1-a6ff-775f4f935ee7",
   "metadata": {},
   "outputs": [],
   "source": []
  },
  {
   "cell_type": "code",
   "execution_count": null,
   "id": "f99c76e7-aad4-423c-acea-36ec385eb23b",
   "metadata": {},
   "outputs": [],
   "source": []
  }
 ],
 "metadata": {
  "kernelspec": {
   "display_name": "Python 3 (ipykernel)",
   "language": "python",
   "name": "python3"
  },
  "language_info": {
   "codemirror_mode": {
    "name": "ipython",
    "version": 3
   },
   "file_extension": ".py",
   "mimetype": "text/x-python",
   "name": "python",
   "nbconvert_exporter": "python",
   "pygments_lexer": "ipython3",
   "version": "3.8.10"
  }
 },
 "nbformat": 4,
 "nbformat_minor": 5
}
